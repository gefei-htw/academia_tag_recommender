{
 "cells": [
  {
   "cell_type": "markdown",
   "metadata": {},
   "source": [
    "# Evaluation\n",
    "\n",
    "This notebook discusses evaluation methods using the [academia.stackexchange.com](https://academia.stackexchange.com/) data dump.\n",
    "\n",
    "## Table of Contents\n",
    "* [Data import](#data_import)\n",
    "* [Evaluation methods](#methods)"
   ]
  },
  {
   "cell_type": "code",
   "execution_count": 1,
   "metadata": {},
   "outputs": [],
   "source": [
    "%load_ext autoreload\n",
    "%autoreload 2\n",
    "\n",
    "import matplotlib.pyplot as plt\n",
    "import numpy as np\n",
    "from joblib import dump, load\n",
    "from academia_tag_recommender.definitions import MODELS_PATH"
   ]
  },
  {
   "cell_type": "markdown",
   "metadata": {},
   "source": [
    "<a id='data_import'/>"
   ]
  },
  {
   "cell_type": "markdown",
   "metadata": {},
   "source": [
    "## Data import"
   ]
  },
  {
   "cell_type": "code",
   "execution_count": 2,
   "metadata": {},
   "outputs": [
    {
     "name": "stderr",
     "output_type": "stream",
     "text": [
      "C:\\Users\\Monique\\anaconda3\\lib\\site-packages\\sklearn\\base.py:329: UserWarning: Trying to unpickle estimator TfidfTransformer from version 0.23.1 when using version 0.23.2. This might lead to breaking code or invalid results. Use at your own risk.\n",
      "  warnings.warn(\n",
      "C:\\Users\\Monique\\anaconda3\\lib\\site-packages\\sklearn\\base.py:329: UserWarning: Trying to unpickle estimator TfidfVectorizer from version 0.23.1 when using version 0.23.2. This might lead to breaking code or invalid results. Use at your own risk.\n",
      "  warnings.warn(\n"
     ]
    },
    {
     "name": "stdout",
     "output_type": "stream",
     "text": [
      "Received saved model\n"
     ]
    }
   ],
   "source": [
    "from sklearn.feature_extraction.text import CountVectorizer, TfidfVectorizer\n",
    "from academia_tag_recommender.preprocessor import BasicPreprocessor\n",
    "from academia_tag_recommender.tokenizer import BasicTokenizer, EnglishStemmer, PorterStemmer, LancasterStemmer, Lemmatizer\n",
    "from academia_tag_recommender.test_train_data import get_test_train_data\n",
    "\n",
    "X_train, X_test, y_train, y_test = get_test_train_data(TfidfVectorizer, BasicTokenizer, BasicPreprocessor, None, (1, 1), 0.25, multi=True)"
   ]
  },
  {
   "cell_type": "code",
   "execution_count": 3,
   "metadata": {},
   "outputs": [],
   "source": [
    "from academia_tag_recommender.classifier_computation import load_model\n",
    "\n",
    "models = ['Multioutput - Complement Naive Bayes',\n",
    "          'Multioutput - Gaussian Naive Bayes',\n",
    "          'Multioutput - Multinomial Naive Bayes',\n",
    "          'Multioutput - Linear SVC',\n",
    "          'Multioutput - Logistic Regression',]\n",
    "\n",
    "clfs = [[name, load_model(name).predict(X_test)] for name in models]"
   ]
  },
  {
   "cell_type": "markdown",
   "metadata": {},
   "source": [
    "<a id='methods'/>"
   ]
  },
  {
   "cell_type": "markdown",
   "metadata": {},
   "source": [
    "## [Evaluation methods](https://scikit-learn.org/stable/modules/model_evaluation.html#multilabel-ranking-metrics)\n",
    "\n",
    "Evaluation Measures from Madjarov et al. 2012:\n",
    "\n",
    "**Example-based**\n",
    "> The example-based evaluation measures are based on the average differences of the actual and the predicted sets of labels over all examples of the evaluation dataset. (Madjaroj et al. 2012)\n",
    "- [Hamming loss](https://scikit-learn.org/stable/modules/generated/sklearn.metrics.hamming_loss.html#sklearn.metrics.hamming_loss)\n",
    "> The Hamming loss is the fraction of labels that are incorrectly predicted.\n",
    "- [Accuracy](https://scikit-learn.org/stable/modules/generated/sklearn.metrics.accuracy_score.html#sklearn.metrics.accuracy_score)\n",
    "> In multilabel classification, this function computes subset accuracy: the set of labels predicted for a sample must exactly match the corresponding set of labels in y_true.\n",
    "- [Precision](https://scikit-learn.org/stable/modules/generated/sklearn.metrics.precision_score.html#sklearn.metrics.precision_score)  with `average: 'samples'`\n",
    "> The precision is the ratio tp / (tp + fp) where tp is the number of true positives and fp the number of false positives. The precision is intuitively the ability of the classifier not to label as positive a sample that is negative.\n",
    "- [Recall](https://scikit-learn.org/stable/modules/generated/sklearn.metrics.recall_score.html#sklearn.metrics.recall_score)  with `average: 'samples'`\n",
    "> The recall is the ratio tp / (tp + fn) where tp is the number of true positives and fn the number of false negatives. The recall is intuitively the ability of the classifier to find all the positive samples.\n",
    "- [F1 score](https://scikit-learn.org/stable/modules/generated/sklearn.metrics.f1_score.html#sklearn.metrics.f1_score)  with `average: 'samples'`\n",
    "> The F1 score can be interpreted as a weighted average of the precision and recall, where an F1 score reaches its best value at 1 and worst score at 0. The relative contribution of precision and recall to the F1 score are equal. The formula for the F1 score is:\n",
    ">*F1 = 2 * (precision * recall) / (precision + recall)*\n",
    "- subset accuracy\n",
    "\n",
    "**Label-based**\n",
    "> The label-based evaluation measures [...] assess the predictive performance for each label separately and then average the performance over all labels. (Madjaroj et al. 2012)\n",
    "- micro-precision [Precision](https://scikit-learn.org/stable/modules/generated/sklearn.metrics.precision_score.html#sklearn.metrics.precision_score) with `average: 'micro'`\n",
    "- micro-recall [Recall](https://scikit-learn.org/stable/modules/generated/sklearn.metrics.recall_score.html#sklearn.metrics.recall_score) with `average: 'micro'`\n",
    "- micro-F1 [F1 score](https://scikit-learn.org/stable/modules/generated/sklearn.metrics.f1_score.html#sklearn.metrics.f1_score) with `average: 'micro'`\n",
    "- macro-precision [Precision](https://scikit-learn.org/stable/modules/generated/sklearn.metrics.precision_score.html#sklearn.metrics.precision_score) with `average: 'macro'`\n",
    "- macro-recall [Recall](https://scikit-learn.org/stable/modules/generated/sklearn.metrics.recall_score.html#sklearn.metrics.recall_score) with `average: 'macro'`\n",
    "- macro-F1 [F1 score](https://scikit-learn.org/stable/modules/generated/sklearn.metrics.f1_score.html#sklearn.metrics.f1_score) with `average: 'macro'`\n"
   ]
  },
  {
   "cell_type": "code",
   "execution_count": 4,
   "metadata": {},
   "outputs": [],
   "source": [
    "from sklearn.metrics import hamming_loss, accuracy_score, precision_score, recall_score, f1_score"
   ]
  },
  {
   "cell_type": "code",
   "execution_count": 8,
   "metadata": {},
   "outputs": [
    {
     "name": "stdout",
     "output_type": "stream",
     "text": [
      "Multioutput - Complement Naive Bayes\n",
      "Multioutput - Gaussian Naive Bayes\n",
      "Multioutput - Multinomial Naive Bayes\n",
      "Multioutput - Elastic Net\n",
      "Multioutput - Linear SVC\n",
      "Multioutput - Logistic Regression\n"
     ]
    }
   ],
   "source": [
    "metrics = []\n",
    "for clf in clfs:\n",
    "    name, y_pred = clf[:2]\n",
    "    if name != 'Multioutput - Elastic Net':\n",
    "        clf_metrics = [name,\n",
    "                       y_pred,\n",
    "\n",
    "                       hamming_loss(y_test, y_pred),\n",
    "                       accuracy_score(y_test, y_pred),\n",
    "                       precision_score(y_test, y_pred, average='samples'),\n",
    "                       recall_score(y_test, y_pred, average='samples'),\n",
    "                       f1_score(y_test, y_pred, average='samples'),\n",
    "\n",
    "                       precision_score(y_test, y_pred, average='micro'),\n",
    "                       recall_score(y_test, y_pred, average='micro'),\n",
    "                       f1_score(y_test, y_pred, average='micro'),\n",
    "\n",
    "                       precision_score(y_test, y_pred, average='macro'),\n",
    "                       recall_score(y_test, y_pred, average='macro'),\n",
    "                       f1_score(y_test, y_pred, average='macro')]\n",
    "        metrics.append(clf_metrics)"
   ]
  },
  {
   "cell_type": "code",
   "execution_count": 45,
   "metadata": {},
   "outputs": [
    {
     "data": {
      "image/png": "[encoded data removed]",
      "text/plain": [
       "<Figure size 1440x360 with 5 Axes>"
      ]
     },
     "metadata": {
      "needs_background": "light"
     },
     "output_type": "display_data"
    }
   ],
   "source": [
    "results = [[x[i] for x in metrics] for i in range(len(metrics[0]))]\n",
    "\n",
    "clf_names, _, hamming_loss_sample, accuray_sample, precision_sample, recall_sample, f1_sample, precision_micro, recall_micro, f1_micro, precision_macro, recall_macro, f1_macro = results\n",
    "indices = np.arange(len(clf_names))\n",
    "\n",
    "fig, axes = plt.subplots(1, 5, figsize=(20, 5))\n",
    "axes[0].set_title('Hamming loss')\n",
    "axes[0].barh(indices, hamming_loss_sample, .15, color='navy')\n",
    "\n",
    "axes[1].set_title('Accuray')\n",
    "axes[1].barh(indices, accuray_sample, .15, color='navy')\n",
    "\n",
    "axes[2].set_title('Example-based')\n",
    "axes[2].barh(indices + -.2, precision_sample, .15, label=\"Precision\", color='darkorange')\n",
    "axes[2].barh(indices + 0, recall_sample, .15, label=\"Recall\", color='c')\n",
    "axes[2].barh(indices + .2, f1_sample, .15, label=\"F1\", color='y')\n",
    "axes[2].legend(loc='best')\n",
    "\n",
    "axes[3].set_title('Label-based micro')\n",
    "axes[3].barh(indices + -.2, precision_micro, .15, label=\"Precision\", color='darkorange')\n",
    "axes[3].barh(indices + 0, recall_micro, .15, label=\"Recall\", color='c')\n",
    "axes[3].barh(indices + .2, f1_micro, .15, label=\"F1\", color='y')\n",
    "axes[3].legend(loc='best')\n",
    "\n",
    "axes[4].set_title('Label-based macro')\n",
    "axes[4].barh(indices + -.2, precision_macro, .15, label=\"Precision\", color='darkorange')\n",
    "axes[4].barh(indices + 0, recall_macro, .15, label=\"Recall\", color='c')\n",
    "axes[4].barh(indices + .2, f1_macro, .15, label=\"F1\", color='y')\n",
    "axes[4].legend(loc='best')\n",
    "\n",
    "#for i, c in zip(indices, clf_names):\n",
    "#    axes[0].text(-.3, i + .3, c)\n",
    "plt.show()"
   ]
  },
  {
   "cell_type": "code",
   "execution_count": 59,
   "metadata": {},
   "outputs": [
    {
     "name": "stdout",
     "output_type": "stream",
     "text": [
      "                              HL        Acc       Prec s    Rec s     F1 s      Prec mi   Rec mi    F1 mi     Prec ma   Rec ma    F1 ma     \n",
      "Complement Naive Bayes        0.019     0.018     0.260     0.235     0.194     0.086     0.215     0.123     0.016     0.041     0.022     \n",
      "Gaussian Naive Bayes          0.020     0.004     0.105     0.231     0.106     0.081     0.219     0.119     0.026     0.037     0.024     \n",
      "Multinomial Naive Bayes       0.011     0.014     0.171     0.121     0.115     0.103     0.111     0.107     0.015     0.015     0.015     \n",
      "Linear SVC                    0.006     0.055     0.475     0.354     0.370     0.532     0.325     0.404     0.350     0.150     0.193     \n",
      "Logistic Regression           0.005     0.067     0.466     0.285     0.326     0.686     0.256     0.373     0.288     0.071     0.103     \n"
     ]
    }
   ],
   "source": [
    "print('{:<30}{:<10}{:<10}{:<10}{:<10}{:<10}{:<10}{:<10}{:<10}{:<10}{:<10}{:<10}'.format('', 'HL', 'Acc', 'Prec s', 'Rec s', 'F1 s', 'Prec mi', 'Rec mi', 'F1 mi', 'Prec ma', 'Rec ma', 'F1 ma'))\n",
    "for clf in metrics:\n",
    "        name, _, hamming_loss_sample, accuray_sample, precision_sample, recall_sample, f1_sample, precision_micro, recall_micro, f1_micro, precision_macro, recall_macro, f1_macro = clf\n",
    "        print('{:<30}{:<10.3f}{:<10.3f}{:<10.3f}{:<10.3f}{:<10.3f}{:<10.3f}{:<10.3f}{:<10.3f}{:<10.3f}{:<10.3f}{:<10.3f}'.format(name[14:], hamming_loss_sample, accuray_sample, precision_sample, recall_sample, f1_sample, precision_micro, recall_micro, f1_micro, precision_macro, recall_macro, f1_macro))"
   ]
  },
  {
   "cell_type": "markdown",
   "metadata": {},
   "source": [
    "*Logistic Regression* gives the best results in *Hamming loss*, *Accuracy* and *micro precision*, while *Linear SVC* give the best results for *example based Precision, Recall and F1*, *micro Recal and F1*, as well as *macro Precision, Recall and F1*."
   ]
  },
  {
   "cell_type": "markdown",
   "metadata": {},
   "source": [
    "Eigener Classifier (Jedes Label verwendet unterschiedliche Testdaten)"
   ]
  },
  {
   "cell_type": "code",
   "execution_count": 61,
   "metadata": {},
   "outputs": [
    {
     "name": "stdout",
     "output_type": "stream",
     "text": [
      "own                           -1.000    -1.000    -1.000    -1.000    -1.000    0.208     0.315     0.251     0.145     0.484     0.139     \n"
     ]
    }
   ],
   "source": [
    "print('{:<30}{:<10.3f}{:<10.3f}{:<10.3f}{:<10.3f}{:<10.3f}{:<10.3f}{:<10.3f}{:<10.3f}{:<10.3f}{:<10.3f}{:<10.3f}'.format('own', -1, -1, -1, -1, -1, 0.2080958431657288, 0.3148931494808548, 0.25059018973507036, 0.14524136008560942, 0.48429116756932744, 0.13915965154435045))          "
   ]
  },
  {
   "cell_type": "markdown",
   "metadata": {},
   "source": [
    "Eigener Classifier (nur 190 involvierte Label)"
   ]
  },
  {
   "cell_type": "code",
   "execution_count": 63,
   "metadata": {},
   "outputs": [
    {
     "name": "stdout",
     "output_type": "stream",
     "text": [
      "own                           0.006     0.320     0.718     0.729     0.693     0.771     0.758     0.765     0.268     0.268     0.261     \n"
     ]
    }
   ],
   "source": [
    "print('{:<30}{:<10.3f}{:<10.3f}{:<10.3f}{:<10.3f}{:<10.3f}{:<10.3f}{:<10.3f}{:<10.3f}{:<10.3f}{:<10.3f}{:<10.3f}'.format('own', 0.006, 0.320, 0.718, 0.729, 0.693, 0.771, 0.758, 0.765, 0.268, 0.268, 0.261))          "
   ]
  },
  {
   "cell_type": "markdown",
   "metadata": {},
   "source": [
    "Eigener Classifier (nicht involvierte werden immer als 0 ausgegeben)"
   ]
  },
  {
   "cell_type": "code",
   "execution_count": 64,
   "metadata": {},
   "outputs": [
    {
     "name": "stdout",
     "output_type": "stream",
     "text": [
      "own                           0.004     0.200     0.690     0.781     0.702     0.673     0.763     0.715     0.129     0.139     0.131     \n"
     ]
    }
   ],
   "source": [
    "print('{:<30}{:<10.3f}{:<10.3f}{:<10.3f}{:<10.3f}{:<10.3f}{:<10.3f}{:<10.3f}{:<10.3f}{:<10.3f}{:<10.3f}{:<10.3f}'.format('own', 0.004, 0.200, 0.690, 0.781, 0.702, 0.673, 0.763, 0.715, 0.129, 0.139, 0.131))          "
   ]
  },
  {
   "cell_type": "code",
   "execution_count": null,
   "metadata": {},
   "outputs": [],
   "source": []
  }
 ],
 "metadata": {
  "kernelspec": {
   "display_name": "Python 3",
   "language": "python",
   "name": "python3"
  },
  "language_info": {
   "codemirror_mode": {
    "name": "ipython",
    "version": 3
   },
   "file_extension": ".py",
   "mimetype": "text/x-python",
   "name": "python",
   "nbconvert_exporter": "python",
   "pygments_lexer": "ipython3",
   "version": "3.8.3"
  }
 },
 "nbformat": 4,
 "nbformat_minor": 4
}
