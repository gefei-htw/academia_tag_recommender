{
 "cells": [
  {
   "cell_type": "markdown",
   "metadata": {},
   "source": [
    "# Data Exploration\n",
    "\n",
    "This notebook explores the [academia.stackexchange.com](https://academia.stackexchange.com/) data dump.\n",
    "\n",
    "## Table of Contents\n",
    "* [Users](#users)\n",
    "* [Tags](#tags)\n",
    "* [Posts](#posts)\n",
    "* [Questions](#questions)\n",
    "* [Comments](#comments)\n",
    "* [Votes](#votes)"
   ]
  },
  {
   "cell_type": "code",
   "execution_count": 1,
   "metadata": {},
   "outputs": [],
   "source": [
    "%load_ext autoreload\n",
    "%autoreload 2\n",
    "\n",
    "import matplotlib.pyplot as plt\n",
    "import numpy as np\n",
    "from academia_tag_recommender.prints import print_stats, print_frequency_stats_in_ranges"
   ]
  },
  {
   "cell_type": "markdown",
   "metadata": {},
   "source": [
    "<a id=\"users\"></a>"
   ]
  },
  {
   "cell_type": "markdown",
   "metadata": {},
   "source": [
    "## Users\n",
    "\n",
    "The data dump includes a file documenting all registered users.\n",
    "\n",
    "To explore the users we import them from the `data` module:"
   ]
  },
  {
   "cell_type": "code",
   "execution_count": 2,
   "metadata": {},
   "outputs": [],
   "source": [
    "from academia_tag_recommender.data import users as get_users\n",
    "users = get_users()"
   ]
  },
  {
   "cell_type": "markdown",
   "metadata": {},
   "source": [
    "Importing the users file reveals the size of the users dataset."
   ]
  },
  {
   "cell_type": "code",
   "execution_count": 3,
   "metadata": {},
   "outputs": [
    {
     "name": "stdout",
     "output_type": "stream",
     "text": [
      "There are 100321 users in the data set.\n"
     ]
    }
   ],
   "source": [
    "print('There are {0} users in the data set.'.format(len(users)))"
   ]
  },
  {
   "cell_type": "markdown",
   "metadata": {},
   "source": [
    "**Example:**\n",
    "\n",
    "To understand which information is given for a specific user we explore the attributes of an example user."
   ]
  },
  {
   "cell_type": "code",
   "execution_count": 4,
   "metadata": {},
   "outputs": [
    {
     "name": "stdout",
     "output_type": "stream",
     "text": [
      "{'Id': '-1', 'Reputation': '1', 'CreationDate': '2012-02-14T18:31:38.453', 'DisplayName': 'Community', 'LastAccessDate': '2012-02-14T18:31:38.453', 'WebsiteUrl': 'http://meta.stackexchange.com/', 'Location': 'on the server farm', 'AboutMe': '<p>Hi, I\\'m not really a person.</p>\\n\\n<p>I\\'m a background process that helps keep this site clean!</p>\\n\\n<p>I do things like</p>\\n\\n<ul>\\n<li>Randomly poke old unanswered questions every hour so they get some attention</li>\\n<li>Own community questions and answers so nobody gets unnecessary reputation from them</li>\\n<li>Own downvotes on spam/evil posts that get permanently deleted</li>\\n<li>Own suggested edits from anonymous users</li>\\n<li><a href=\"http://meta.stackexchange.com/a/92006\">Remove abandoned questions</a></li>\\n</ul>\\n', 'Views': '0', 'UpVotes': '20388', 'DownVotes': '15368', 'AccountId': '-1'}\n"
     ]
    }
   ],
   "source": [
    "print(users[0].attrib)"
   ]
  },
  {
   "cell_type": "markdown",
   "metadata": {},
   "source": [
    "Which results in having the following attribute keys for users:"
   ]
  },
  {
   "cell_type": "code",
   "execution_count": 5,
   "metadata": {},
   "outputs": [
    {
     "name": "stdout",
     "output_type": "stream",
     "text": [
      "['Id', 'Reputation', 'CreationDate', 'DisplayName', 'LastAccessDate', 'WebsiteUrl', 'Location', 'AboutMe', 'Views', 'UpVotes', 'DownVotes', 'AccountId']\n"
     ]
    }
   ],
   "source": [
    "print(users[0].keys())"
   ]
  },
  {
   "cell_type": "markdown",
   "metadata": {},
   "source": [
    "<a id=\"tags\"></a>"
   ]
  },
  {
   "cell_type": "markdown",
   "metadata": {},
   "source": [
    "## Tags\n",
    "\n",
    "The data dump includes a file documenting all tags.\n",
    "\n",
    "To explore the tags we import them from the `data` module:"
   ]
  },
  {
   "cell_type": "code",
   "execution_count": 6,
   "metadata": {},
   "outputs": [],
   "source": [
    "from academia_tag_recommender.data import tags as get_tags\n",
    "tags = get_tags()"
   ]
  },
  {
   "cell_type": "markdown",
   "metadata": {},
   "source": [
    "Importing the tags file reveals the size of the tags dataset."
   ]
  },
  {
   "cell_type": "code",
   "execution_count": 7,
   "metadata": {},
   "outputs": [
    {
     "name": "stdout",
     "output_type": "stream",
     "text": [
      "There are 452 tags in the dataset.\n"
     ]
    }
   ],
   "source": [
    "print('There are {0} tags in the dataset.'.format(len(tags)))"
   ]
  },
  {
   "cell_type": "markdown",
   "metadata": {},
   "source": [
    "**Example:**\n",
    "\n",
    "To understand which information is given for a specific tag we explore the attributes of an example tag."
   ]
  },
  {
   "cell_type": "code",
   "execution_count": 8,
   "metadata": {},
   "outputs": [
    {
     "name": "stdout",
     "output_type": "stream",
     "text": [
      "{'Id': '2', 'TagName': 'visa', 'Count': '86', 'ExcerptPostId': '7686', 'WikiPostId': '7685'}\n"
     ]
    }
   ],
   "source": [
    "print(tags[0].attrib)"
   ]
  },
  {
   "cell_type": "markdown",
   "metadata": {},
   "source": [
    "Which results in having the following attribute keys for tags:"
   ]
  },
  {
   "cell_type": "code",
   "execution_count": 9,
   "metadata": {},
   "outputs": [
    {
     "name": "stdout",
     "output_type": "stream",
     "text": [
      "['Id', 'TagName', 'Count', 'ExcerptPostId', 'WikiPostId']\n"
     ]
    }
   ],
   "source": [
    "print(tags[0].keys())"
   ]
  },
  {
   "cell_type": "markdown",
   "metadata": {},
   "source": [
    "**Analysis:**\n",
    "    \n",
    "To get a better understanding for the tag data set we investigate the tag distribution by asking:\n",
    "\n",
    "***How often is each tag used?***"
   ]
  },
  {
   "cell_type": "markdown",
   "metadata": {},
   "source": [
    "To discuss this questions we first sort the tags based on their occurence (`Count`)."
   ]
  },
  {
   "cell_type": "code",
   "execution_count": 10,
   "metadata": {},
   "outputs": [],
   "source": [
    "sorted_tags = sorted(tags, key=lambda x: int(x.attrib['Count']), reverse=True)"
   ]
  },
  {
   "cell_type": "markdown",
   "metadata": {},
   "source": [
    "We then plot the occurence (`Count`) for each tag."
   ]
  },
  {
   "cell_type": "code",
   "execution_count": 11,
   "metadata": {},
   "outputs": [
    {
     "data": {
      "image/png": "[encoded data removed]",
      "text/plain": [
       "<Figure size 1080x360 with 3 Axes>"
      ]
     },
     "metadata": {
      "needs_background": "light"
     },
     "output_type": "display_data"
    }
   ],
   "source": [
    "x = range(0, len(sorted_tags))\n",
    "y = list(map(lambda x: int(x.attrib['Count']), sorted_tags))\n",
    "\n",
    "fig, axes = plt.subplots(1, 3, figsize=(15,5), gridspec_kw={'width_ratios': [3, 3, 1]})\n",
    "fig.tight_layout()\n",
    "plt.subplots_adjust(wspace=0.3)\n",
    "\n",
    "axes[0].plot(x, y)\n",
    "axes[0].set_title('tag distribution')\n",
    "axes[0].set_xlabel('tags')\n",
    "axes[0].set_ylabel('occurence')\n",
    "\n",
    "bin_amount = 100\n",
    "axes[1].hist(y, bins=bin_amount)\n",
    "axes[1].set_title('tag distribution as histogram using {} bins'.format(bin_amount))\n",
    "axes[1].set_xlabel('tags')\n",
    "axes[1].set_ylabel('occurence')\n",
    "\n",
    "tag_counts = list(map(lambda x: int(x.attrib['Count']), sorted_tags))\n",
    "axes[2].boxplot(tag_counts)\n",
    "axes[2].set_title('tag distribution as boxplot')\n",
    "axes[2].set_xlabel('tags')\n",
    "axes[2].set_ylabel('occurence')\n",
    "\n",
    "plt.show()"
   ]
  },
  {
   "cell_type": "markdown",
   "metadata": {},
   "source": [
    "Plotting the occurence for each tag reveals that a small amount of tags gets used quite often, while most of the tags are used less than 50 times.\n",
    "\n",
    "To get an overview over the most used tags we print the 10 most used tags with their count."
   ]
  },
  {
   "cell_type": "code",
   "execution_count": 12,
   "metadata": {},
   "outputs": [
    {
     "name": "stdout",
     "output_type": "stream",
     "text": [
      "Tag name             Count          \n",
      "publications         5548           \n",
      "phd                  5139           \n",
      "graduate-admissions  3696           \n",
      "research-process     2113           \n",
      "graduate-school      2017           \n",
      "citations            1917           \n",
      "thesis               1845           \n",
      "peer-review          1736           \n",
      "mathematics          1708           \n",
      "journals             1689           \n",
      "masters              1609           \n"
     ]
    }
   ],
   "source": [
    "print('{:<20} {:<15}'.format('Tag name', 'Count'))\n",
    "for tag in sorted_tags[0:11]:\n",
    "    print('{:<20} {:<15}'.format(tag.attrib['TagName'], tag.attrib['Count']))"
   ]
  },
  {
   "cell_type": "markdown",
   "metadata": {},
   "source": [
    "We can see that in the data set, there are **2 tags** that are used **more than 5000 times** (`publication`, `phd`), **one** that is used **~3700 times** (`graduate-admissions`), while all **other tags** are used **less than 2000 times**.\n",
    "\n",
    "For further investigation we remove the three outliers and plot another boxplot."
   ]
  },
  {
   "cell_type": "code",
   "execution_count": 13,
   "metadata": {},
   "outputs": [
    {
     "data": {
      "image/png": "[encoded data removed]",
      "text/plain": [
       "<Figure size 360x720 with 1 Axes>"
      ]
     },
     "metadata": {
      "needs_background": "light"
     },
     "output_type": "display_data"
    }
   ],
   "source": [
    "fig, axes = plt.subplots(figsize=(5,10))\n",
    "\n",
    "tag_counts = list(map(lambda x: int(x.attrib['Count']), sorted_tags))\n",
    "outlier_amount = 3\n",
    "axes.boxplot(tag_counts[outlier_amount: len(tag_counts)])\n",
    "axes.set_title('tag distribution as boxplot')\n",
    "axes.set_xlabel('tags')\n",
    "axes.set_ylabel('occurence')\n",
    "y_ticks = np.arange(0, tag_counts[outlier_amount], 100)\n",
    "axes.yaxis.set_ticks(y_ticks)\n",
    "\n",
    "plt.show()"
   ]
  },
  {
   "cell_type": "markdown",
   "metadata": {},
   "source": [
    "We now see that the middle 50% of the tags rougly occure between 0 and 150 times.\n",
    "\n",
    "To examine in detail we print the exact statistics."
   ]
  },
  {
   "cell_type": "code",
   "execution_count": 14,
   "metadata": {},
   "outputs": [
    {
     "name": "stdout",
     "output_type": "stream",
     "text": [
      "Max:                5548                \n",
      "Third Quartile:     144.25              \n",
      "Mean:               196.40265486725664  \n",
      "Median:             46.5                \n",
      "First Quartile:     15.75               \n",
      "Min:                1                   \n",
      "Standard deviation: 507.9936082379884   \n",
      "Variance:           258057.5060106508   \n"
     ]
    }
   ],
   "source": [
    "print_stats(tag_counts)"
   ]
  },
  {
   "cell_type": "markdown",
   "metadata": {},
   "source": [
    "Now we have the exact values and know that the middle **50%** of the tags occure between **15.75 and 144.25** times.\n",
    "\n",
    "The **average** occurence of a tag is **196.4** times while the **median** occurence lays at **46.5**, showing the big impact of the outliers."
   ]
  },
  {
   "cell_type": "markdown",
   "metadata": {},
   "source": [
    "We now examine the tag data set in even more detail by checking the number of tags in specified frequency ranges."
   ]
  },
  {
   "cell_type": "code",
   "execution_count": 15,
   "metadata": {},
   "outputs": [
    {
     "ename": "TypeError",
     "evalue": "print_frequency_stats_in_ranges() missing 1 required positional argument: 'frequency_ranges'",
     "output_type": "error",
     "traceback": [
      "\u001b[1;31m---------------------------------------------------------------------------\u001b[0m",
      "\u001b[1;31mTypeError\u001b[0m                                 Traceback (most recent call last)",
      "\u001b[1;32m<ipython-input-15-f5563cdffbe6>\u001b[0m in \u001b[0;36m<module>\u001b[1;34m\u001b[0m\n\u001b[1;32m----> 1\u001b[1;33m \u001b[0mprint_frequency_stats_in_ranges\u001b[0m\u001b[1;33m(\u001b[0m\u001b[1;33m[\u001b[0m\u001b[1;33m(\u001b[0m\u001b[1;36m0\u001b[0m\u001b[1;33m,\u001b[0m \u001b[1;36m10\u001b[0m\u001b[1;33m)\u001b[0m\u001b[1;33m,\u001b[0m \u001b[1;33m(\u001b[0m\u001b[1;36m10\u001b[0m\u001b[1;33m,\u001b[0m \u001b[1;36m100\u001b[0m\u001b[1;33m)\u001b[0m\u001b[1;33m,\u001b[0m \u001b[1;33m(\u001b[0m\u001b[1;36m100\u001b[0m\u001b[1;33m,\u001b[0m \u001b[1;36m1000\u001b[0m\u001b[1;33m)\u001b[0m\u001b[1;33m,\u001b[0m \u001b[1;33m(\u001b[0m\u001b[1;36m1000\u001b[0m\u001b[1;33m,\u001b[0m \u001b[0mtag_counts\u001b[0m\u001b[1;33m[\u001b[0m\u001b[1;36m0\u001b[0m\u001b[1;33m]\u001b[0m\u001b[1;33m)\u001b[0m\u001b[1;33m,\u001b[0m \u001b[1;33m(\u001b[0m\u001b[1;36m0\u001b[0m\u001b[1;33m,\u001b[0m \u001b[0mtag_counts\u001b[0m\u001b[1;33m[\u001b[0m\u001b[1;36m0\u001b[0m\u001b[1;33m]\u001b[0m\u001b[1;33m)\u001b[0m\u001b[1;33m]\u001b[0m\u001b[1;33m)\u001b[0m\u001b[1;33m\u001b[0m\u001b[1;33m\u001b[0m\u001b[0m\n\u001b[0m",
      "\u001b[1;31mTypeError\u001b[0m: print_frequency_stats_in_ranges() missing 1 required positional argument: 'frequency_ranges'"
     ]
    }
   ],
   "source": [
    "print_frequency_stats_in_ranges([(0, 10), (10, 100), (100, 1000), (1000, tag_counts[0]), (0, tag_counts[0])])"
   ]
  },
  {
   "cell_type": "markdown",
   "metadata": {},
   "source": [
    "Having the distribution graphs in mind we change the ranges to better match the data."
   ]
  },
  {
   "cell_type": "code",
   "execution_count": null,
   "metadata": {},
   "outputs": [],
   "source": [
    "print_frequency_stats_in_ranges([(0, 600), (600, 1000), (1000, 2000), (2000, tag_counts[0]), (0, tag_counts[0])])"
   ]
  },
  {
   "cell_type": "markdown",
   "metadata": {},
   "source": [
    "We can now see that **92.7 %** of the tags are each used less than **600 times**.\n",
    "\n",
    "While the remaining **32 tags** are used in **60.24 %** cases of all tag occurances."
   ]
  },
  {
   "cell_type": "markdown",
   "metadata": {},
   "source": [
    "<a id=\"posts\"></a>"
   ]
  },
  {
   "cell_type": "markdown",
   "metadata": {},
   "source": [
    "## Posts\n",
    "\n",
    "The data dump includes a file documenting all posts.\n",
    "\n",
    "To explore the posts we import them from the `data` module:"
   ]
  },
  {
   "cell_type": "code",
   "execution_count": null,
   "metadata": {},
   "outputs": [],
   "source": [
    "from academia_tag_recommender.data import posts as get_posts\n",
    "posts = get_posts()"
   ]
  },
  {
   "cell_type": "markdown",
   "metadata": {},
   "source": [
    "Importing the posts file reveals the size of the posts dataset."
   ]
  },
  {
   "cell_type": "code",
   "execution_count": null,
   "metadata": {},
   "outputs": [],
   "source": [
    "print('There are {0} posts in the data set.'.format(len(posts)))"
   ]
  },
  {
   "cell_type": "markdown",
   "metadata": {},
   "source": [
    "**Example:**\n",
    "\n",
    "To understand which information is given for a specific post we explore the attributes of an example post."
   ]
  },
  {
   "cell_type": "code",
   "execution_count": null,
   "metadata": {},
   "outputs": [],
   "source": [
    "print(posts[0].attrib)"
   ]
  },
  {
   "cell_type": "markdown",
   "metadata": {},
   "source": [
    "Which results in having the following attribute keys for posts:"
   ]
  },
  {
   "cell_type": "code",
   "execution_count": null,
   "metadata": {},
   "outputs": [],
   "source": [
    "print(posts[0].keys())"
   ]
  },
  {
   "cell_type": "markdown",
   "metadata": {},
   "source": [
    "<a id=\"questions\"></a>"
   ]
  },
  {
   "cell_type": "markdown",
   "metadata": {},
   "source": [
    "## Questions\n",
    "\n",
    "[Posts](#posts) with `PostTypeId == 1` are questions.\n",
    "\n",
    "To explore the questions we import them from the `data` module:"
   ]
  },
  {
   "cell_type": "code",
   "execution_count": null,
   "metadata": {},
   "outputs": [],
   "source": [
    "from academia_tag_recommender.data import questions as get_questions\n",
    "questions = get_questions()"
   ]
  },
  {
   "cell_type": "markdown",
   "metadata": {},
   "source": [
    "Importing the posts file reveals the size of the posts dataset."
   ]
  },
  {
   "cell_type": "code",
   "execution_count": null,
   "metadata": {},
   "outputs": [],
   "source": [
    "print('There are {0} questions in the data set.'.format(len(questions)))"
   ]
  },
  {
   "cell_type": "markdown",
   "metadata": {},
   "source": [
    "**Example:**\n",
    "\n",
    "Since questions are posts with `PostTypeId == 1` the example object does look the same as a posts object."
   ]
  },
  {
   "cell_type": "code",
   "execution_count": null,
   "metadata": {},
   "outputs": [],
   "source": [
    "print(questions[0].attrib)"
   ]
  },
  {
   "cell_type": "markdown",
   "metadata": {},
   "source": [
    "With the same keys as a posts object."
   ]
  },
  {
   "cell_type": "code",
   "execution_count": null,
   "metadata": {},
   "outputs": [],
   "source": [
    "print(questions[0].keys())"
   ]
  },
  {
   "cell_type": "markdown",
   "metadata": {},
   "source": [
    "For each question the tags are stored using diamon notation **<** *tag* **>**."
   ]
  },
  {
   "cell_type": "code",
   "execution_count": null,
   "metadata": {},
   "outputs": [],
   "source": [
    "print(questions[0].attrib['Tags'])"
   ]
  },
  {
   "cell_type": "markdown",
   "metadata": {},
   "source": [
    "For further investigation we replace this list to contain strings instead of the diamond notation."
   ]
  },
  {
   "cell_type": "code",
   "execution_count": null,
   "metadata": {},
   "outputs": [],
   "source": [
    "for question in questions:\n",
    "    if type(question.attrib['Tags']) != list:\n",
    "        tags_ = question.attrib['Tags'].replace('<', '').split('>')\n",
    "        question.attrib['Tags'] = tags_[0:(len(tags_)-1)]\n",
    "print(questions[0].attrib['Tags'])"
   ]
  },
  {
   "cell_type": "markdown",
   "metadata": {},
   "source": [
    "**Analysis:**\n",
    "    \n",
    "To get a better understanding about the tag usage in questions we investigate the followibng issues:\n",
    "\n",
    "* [How many tags are used for each question?](#tag_amount_distribution)\n",
    "* [How often does a tag appear with other tags?](#tag_cooccurence)\n",
    "\n",
    "\n",
    "* [Which impact has the number of tags to the `ViewCount`?](#tags_vs_view_count)\n",
    "* [Which impact has the number of tags to the `Score`?](#tags_vs_score)\n",
    "* [Which impact has the number of tags to the `AnswerCount`?](#tags_vs_answer_count)\n",
    "* [Which impact has the number of tags to the `CommentCount`?](#tags_vs_comment_count)\n",
    "* [Which impact has the number of tags on whether a question receives an `AcceptedAnswer`?](#tags_vs_accepted_answer)\n",
    "\n",
    "\n",
    "* [How many characters has the title of a question?](#title_chars)\n",
    "* [How many characters has the text of a question?](#text_chars)"
   ]
  },
  {
   "cell_type": "markdown",
   "metadata": {},
   "source": [
    "For first investigations we prepare a list containing the number of tags for each question."
   ]
  },
  {
   "cell_type": "code",
   "execution_count": null,
   "metadata": {},
   "outputs": [],
   "source": [
    "num_of_tags_per_question = [len(question.attrib['Tags']) for question in questions]"
   ]
  },
  {
   "cell_type": "markdown",
   "metadata": {},
   "source": [
    "A question is allowed to have maximum 5 tags per question. ([*What are tags, and how should I use them?*](https://academia.stackexchange.com/help/tagging))"
   ]
  },
  {
   "cell_type": "code",
   "execution_count": null,
   "metadata": {},
   "outputs": [],
   "source": [
    "num_of_tags = [1, 2, 3, 4, 5]"
   ]
  },
  {
   "cell_type": "markdown",
   "metadata": {},
   "source": [
    "***How many tags are used for each question?*** <a id=\"tag_amount_distribution\"/>\n",
    "\n",
    "We investigate how many questions are tagged with how many tags in the data set."
   ]
  },
  {
   "cell_type": "code",
   "execution_count": null,
   "metadata": {},
   "outputs": [],
   "source": [
    "def questions_with_num_of_tags(num_of_tags):\n",
    "    return len([1 for num_of_tags_ in num_of_tags_per_question if num_of_tags_ == num_of_tags])"
   ]
  },
  {
   "cell_type": "code",
   "execution_count": null,
   "metadata": {},
   "outputs": [],
   "source": [
    "num_of_questions_with_num_of_tags = [questions_with_num_of_tags(num_of_tags_) for num_of_tags_ in num_of_tags]"
   ]
  },
  {
   "cell_type": "code",
   "execution_count": null,
   "metadata": {},
   "outputs": [],
   "source": [
    "print('{:<15}{:<20}{}'.format('Number of Tags', 'Number of Questions', 'Percentage'))\n",
    "for index, num_of_tags_ in enumerate(num_of_tags):\n",
    "    percentage = num_of_questions_with_num_of_tags[index] / len(questions) * 100\n",
    "    print('{:<15}{:<20}{:2.2f} %'.format(num_of_tags_, num_of_questions_with_num_of_tags[index], percentage))"
   ]
  },
  {
   "cell_type": "code",
   "execution_count": null,
   "metadata": {},
   "outputs": [],
   "source": [
    "fig, axes = plt.subplots()\n",
    "\n",
    "axes.plot([1, 2, 3, 4, 5], num_of_questions_with_num_of_tags, 'bo')\n",
    "axes.axis([0, 6, 0, 11000])\n",
    "axes.set_title('Distribution of tag usage')\n",
    "axes.set_xlabel('Number of tags')\n",
    "axes.set_ylabel('Number of questions')\n",
    "\n",
    "plt.show()"
   ]
  },
  {
   "cell_type": "markdown",
   "metadata": {},
   "source": [
    "We see that the majority of questions has **2 or 3 tags**, while the least questions have **5 tags**."
   ]
  },
  {
   "cell_type": "markdown",
   "metadata": {},
   "source": [
    "***Which impact has the number of tags to the `ViewCount`?*** <a id=\"tags_vs_view_count\"/>\n",
    "\n",
    "We investigate whether the number of tags for a question has an impact on the times the question was viewed."
   ]
  },
  {
   "cell_type": "code",
   "execution_count": null,
   "metadata": {},
   "outputs": [],
   "source": [
    "def specific_questions_with_num_of_tags(key, num_of_tags):\n",
    "    return [int(question.attrib[key]) for question in questions if len(question.attrib['Tags']) == num_of_tags]"
   ]
  },
  {
   "cell_type": "code",
   "execution_count": null,
   "metadata": {},
   "outputs": [],
   "source": [
    "view_counts_with_num_of_tags = [specific_questions_with_num_of_tags('ViewCount', num_of_tags_) for num_of_tags_ in num_of_tags]\n",
    "average_view_count_with_num_of_tags = [np.average(view_counts) for view_counts in view_counts_with_num_of_tags]"
   ]
  },
  {
   "cell_type": "code",
   "execution_count": null,
   "metadata": {},
   "outputs": [],
   "source": [
    "print('{:<15}{}'.format('Number of Tags', 'Average View Count'))\n",
    "for index, num_of_tags_ in enumerate(num_of_tags):\n",
    "    print('{:<15}{:2.2f}'.format(num_of_tags_, average_view_count_with_num_of_tags[index]))"
   ]
  },
  {
   "cell_type": "code",
   "execution_count": null,
   "metadata": {},
   "outputs": [],
   "source": [
    "fig, axes = plt.subplots()\n",
    "\n",
    "axes.boxplot(view_counts_with_num_of_tags)\n",
    "axes.set_title('View count per number of tags')\n",
    "axes.set_xlabel('Number of tags')\n",
    "axes.set_ylabel('Number of views')\n",
    "\n",
    "plt.show()"
   ]
  },
  {
   "cell_type": "markdown",
   "metadata": {},
   "source": [
    "When looking at the *average* view count and the boxplot we assume that questions with **3 tags** get viewed slightly more often than other questions."
   ]
  },
  {
   "cell_type": "code",
   "execution_count": null,
   "metadata": {},
   "outputs": [],
   "source": [
    "for index, view_counts in enumerate(view_counts_with_num_of_tags):\n",
    "    print('\\nNumber of tags: {}'.format(index+1))\n",
    "    print_stats(view_counts)"
   ]
  },
  {
   "cell_type": "markdown",
   "metadata": {},
   "source": [
    "If we look at the *median* on the other hand, we see that questions with **4 tags** get the most views, followed by questions with **3 or 5 tags**."
   ]
  },
  {
   "cell_type": "markdown",
   "metadata": {},
   "source": [
    "***Which impact has the number of tags to the `Score`?*** <a id=\"tags_vs_score\"/>\n",
    "\n",
    "We investigate whether the number of tags for a question has an impact on the score the question receives."
   ]
  },
  {
   "cell_type": "code",
   "execution_count": null,
   "metadata": {},
   "outputs": [],
   "source": [
    "scores_with_num_of_tags = [specific_questions_with_num_of_tags('Score', num_of_tags_) for num_of_tags_ in num_of_tags]\n",
    "average_score_with_num_of_tags = [np.average(scores) for scores in scores_with_num_of_tags]"
   ]
  },
  {
   "cell_type": "code",
   "execution_count": null,
   "metadata": {},
   "outputs": [],
   "source": [
    "print('{:<15}{}'.format('Number of Tags', 'Average Score'))\n",
    "for index, num_of_tags_ in enumerate(num_of_tags):\n",
    "    print('{:<15}{:2.2f}'.format(num_of_tags_, average_score_with_num_of_tags[index]))"
   ]
  },
  {
   "cell_type": "code",
   "execution_count": null,
   "metadata": {},
   "outputs": [],
   "source": [
    "fig, axes = plt.subplots()\n",
    "\n",
    "axes.boxplot(scores_with_num_of_tags)\n",
    "axes.set_title('Score per number of tags')\n",
    "axes.set_xlabel('Number of tags')\n",
    "axes.set_ylabel('Score')\n",
    "\n",
    "plt.show()"
   ]
  },
  {
   "cell_type": "code",
   "execution_count": null,
   "metadata": {},
   "outputs": [],
   "source": [
    "for index, scores in enumerate(scores_with_num_of_tags):\n",
    "    print('\\nNumber of tags: {}'.format(index+1))\n",
    "    print_stats(scores)"
   ]
  },
  {
   "cell_type": "markdown",
   "metadata": {},
   "source": [
    "When looking at the *median* we notice that only questions with 1 tag get a lower score, while questions with 2 or more tags get the same *median* score.\n",
    "\n",
    "If we use the *mean* as our reference we figure that **4 tag** result in the highest score, followed by **3 and 5 tags** per question."
   ]
  },
  {
   "cell_type": "markdown",
   "metadata": {},
   "source": [
    "***Which impact has the number of tags to the `AnswerCount`?*** <a id=\"tags_vs_answer_count\"/>\n",
    "\n",
    "We investigate whether the number of tags for a question has an impact on number of answers the question receives."
   ]
  },
  {
   "cell_type": "code",
   "execution_count": null,
   "metadata": {},
   "outputs": [],
   "source": [
    "answer_counts_with_num_of_tags = [specific_questions_with_num_of_tags('AnswerCount', num_of_tags_) for num_of_tags_ in num_of_tags]\n",
    "average_answer_count_with_num_of_tags = [np.average(answer_counts) for answer_counts in answer_counts_with_num_of_tags]"
   ]
  },
  {
   "cell_type": "code",
   "execution_count": null,
   "metadata": {},
   "outputs": [],
   "source": [
    "print('{:<15}{}'.format('Number of Tags', 'Average Number of Answers'))\n",
    "for index, num_of_tags_ in enumerate(num_of_tags):\n",
    "    print('{:<15}{:2.2f}'.format(num_of_tags_, average_answer_count_with_num_of_tags[index]))"
   ]
  },
  {
   "cell_type": "code",
   "execution_count": null,
   "metadata": {},
   "outputs": [],
   "source": [
    "fig, axes = plt.subplots()\n",
    "\n",
    "axes.boxplot(answer_counts_with_num_of_tags)\n",
    "axes.set_title('Number of answers per number of tags')\n",
    "axes.set_xlabel('Number of tags')\n",
    "axes.set_ylabel('Number of answers')\n",
    "\n",
    "plt.show()"
   ]
  },
  {
   "cell_type": "code",
   "execution_count": null,
   "metadata": {},
   "outputs": [],
   "source": [
    "for index, answer_counts in enumerate(answer_counts_with_num_of_tags):\n",
    "    print('\\nNumber of tags: {}'.format(index+1))\n",
    "    print_stats(answer_counts)"
   ]
  },
  {
   "cell_type": "markdown",
   "metadata": {},
   "source": [
    "We see that the number of answers does not change significantly with the number of tags."
   ]
  },
  {
   "cell_type": "markdown",
   "metadata": {},
   "source": [
    "***Which impact has the number of tags to the `CommentCount`?*** <a id=\"tags_vs_comment_count\"/>\n",
    "\n",
    "We investigate whether the number of tags for a question has an impact on number of comments the question receives."
   ]
  },
  {
   "cell_type": "code",
   "execution_count": null,
   "metadata": {},
   "outputs": [],
   "source": [
    "comment_counts_with_num_of_tags = [specific_questions_with_num_of_tags('CommentCount', num_of_tags_) for num_of_tags_ in num_of_tags]\n",
    "average_comment_count_with_num_of_tags = [np.average(comment_counts) for comment_counts in comment_counts_with_num_of_tags]"
   ]
  },
  {
   "cell_type": "code",
   "execution_count": null,
   "metadata": {},
   "outputs": [],
   "source": [
    "print('{:<15}{}'.format('Number of Tags', 'Average Number of Comments'))\n",
    "for index, num_of_tags_ in enumerate(num_of_tags):\n",
    "    print('{:<15}{:2.2f}'.format(num_of_tags_, average_comment_count_with_num_of_tags[index]))"
   ]
  },
  {
   "cell_type": "code",
   "execution_count": null,
   "metadata": {},
   "outputs": [],
   "source": [
    "fig, axes = plt.subplots()\n",
    "\n",
    "axes.boxplot(comment_counts_with_num_of_tags)\n",
    "axes.set_title('Number of comments per number of tags')\n",
    "axes.set_xlabel('Number of tags')\n",
    "axes.set_ylabel('Number of comments')\n",
    "\n",
    "plt.show()"
   ]
  },
  {
   "cell_type": "code",
   "execution_count": null,
   "metadata": {},
   "outputs": [],
   "source": [
    "for index, comment_counts in enumerate(comment_counts_with_num_of_tags):\n",
    "    print('\\nNumber of tags: {}'.format(index+1))\n",
    "    print_stats(comment_counts)"
   ]
  },
  {
   "cell_type": "markdown",
   "metadata": {},
   "source": [
    "The *median* is the same for each number of tags.\n",
    "\n",
    "If we look at the *mean* we notice a slight increase in the number of comments based on the number of tags."
   ]
  },
  {
   "cell_type": "markdown",
   "metadata": {},
   "source": [
    "***Which impact has the number of tags on whether a question receives an `AcceptedAnswer`?*** <a id=\"tags_vs_accepted_answer\"/>\n",
    "\n",
    "We investigate whether the number of tags for a question has an impact on the question receiving an accepted answer."
   ]
  },
  {
   "cell_type": "code",
   "execution_count": null,
   "metadata": {},
   "outputs": [],
   "source": [
    "questions_with_answers = [question for question in questions if 'AcceptedAnswerId' in question.keys()]\n",
    "questions_without_answers = [question for question in questions if 'AcceptedAnswerId' not in question.keys()]"
   ]
  },
  {
   "cell_type": "markdown",
   "metadata": {},
   "source": [
    "We first examine how many questions have an accepted answer regardless of their number of tags."
   ]
  },
  {
   "cell_type": "code",
   "execution_count": null,
   "metadata": {},
   "outputs": [],
   "source": [
    "print('{:<40}{:<10}{:.4} %'.format('Questions with accepted answers:', len(questions_with_answers), len(questions_with_answers) / len(questions) * 100))\n",
    "print('{:<40}{:<10}{:.4} %'.format('Questions without accepted answers:', len(questions_without_answers), len(questions_without_answers) / len(questions) * 100))"
   ]
  },
  {
   "cell_type": "markdown",
   "metadata": {},
   "source": [
    "In general there are slightly more questions without accepted answers than questions with accepted answers."
   ]
  },
  {
   "cell_type": "code",
   "execution_count": null,
   "metadata": {},
   "outputs": [],
   "source": [
    "def split_by_num_of_tags(data):\n",
    "    return [len([question for question in data if len(question.attrib['Tags']) == num_of_tags_]) for num_of_tags_ in num_of_tags] "
   ]
  },
  {
   "cell_type": "code",
   "execution_count": null,
   "metadata": {},
   "outputs": [],
   "source": [
    "answered_questions_by_num_of_tags = split_by_num_of_tags(questions_with_answers)\n",
    "unanswered_questions_by_num_of_tags = split_by_num_of_tags(questions_without_answers)"
   ]
  },
  {
   "cell_type": "code",
   "execution_count": null,
   "metadata": {},
   "outputs": [],
   "source": [
    "fig, axes = plt.subplots()\n",
    "\n",
    "bar_width = 0.4\n",
    "axes.bar(num_of_tags, answered_questions_by_num_of_tags, width=bar_width, label='Answered')\n",
    "axes.bar([x + bar_width for x in num_of_tags], unanswered_questions_by_num_of_tags, width=bar_width, label='Unanswered')\n",
    "axes.set_xticks([x + bar_width / 2 for x in num_of_tags])\n",
    "axes.set_xticklabels(num_of_tags)\n",
    "axes.set_title('Number of [accepted, unacceped] questions per number of tags')\n",
    "axes.set_xlabel('Number of tags')\n",
    "axes.set_ylabel('Number of questions')\n",
    "axes.legend()\n",
    "\n",
    "plt.show()"
   ]
  },
  {
   "cell_type": "markdown",
   "metadata": {},
   "source": [
    "We see that for each number of tags there are more unanswered question than those with an accepted answer."
   ]
  },
  {
   "cell_type": "code",
   "execution_count": null,
   "metadata": {},
   "outputs": [],
   "source": [
    "percentages_answered_questions_by_num_of_tags = [(answered_questions_by_num_of_tags[index] / num_of_questions_with_num_of_tags[index]) for index, _ in enumerate(num_of_tags)]\n",
    "percentages_unanswered_questions_by_num_of_tags = [(unanswered_questions_by_num_of_tags[index] / num_of_questions_with_num_of_tags[index]) for index, _ in enumerate(num_of_tags)]"
   ]
  },
  {
   "cell_type": "code",
   "execution_count": null,
   "metadata": {},
   "outputs": [],
   "source": [
    "print('{:<15}{:<15}{:<15}'.format('Number of Tags', 'Answered [%]', 'Unanswered [%]'))\n",
    "for index, num_of_tags_ in enumerate(num_of_tags):\n",
    "    print('{:<15}{:<15.2f}{:<15.2f}'.format(num_of_tags_, percentages_answered_questions_by_num_of_tags[index], percentages_unanswered_questions_by_num_of_tags[index]))"
   ]
  },
  {
   "cell_type": "code",
   "execution_count": null,
   "metadata": {},
   "outputs": [],
   "source": [
    "fig, axes = plt.subplots()\n",
    "\n",
    "axes.bar(num_of_tags, percentages_answered_questions_by_num_of_tags, width=bar_width, label='Answered')\n",
    "axes.bar(num_of_tags, percentages_unanswered_questions_by_num_of_tags, bottom=percentages_answered_questions_by_num_of_tags, width=bar_width, label='Unanswered')\n",
    "axes.set_title('Number of [accepted, unacceped] questions per number of tags')\n",
    "axes.set_xlabel('Number of tags')\n",
    "axes.set_ylabel('Number of questions')\n",
    "axes.legend()\n",
    "\n",
    "plt.show()"
   ]
  },
  {
   "cell_type": "markdown",
   "metadata": {},
   "source": [
    "We see that the number of tags does not have a significant impact on whether the question has an accepted answer or not.\n",
    "\n",
    "There is are slightly more questions with accepted answers if the number of tags equals 3."
   ]
  },
  {
   "cell_type": "markdown",
   "metadata": {},
   "source": [
    "***How many characters has the title of a question?*** <a id=\"title_chars\"/>\n",
    "\n",
    "We investigate how many characters the title of a question has."
   ]
  },
  {
   "cell_type": "code",
   "execution_count": null,
   "metadata": {},
   "outputs": [],
   "source": [
    "title_length_per_question = sorted([len(question.attrib['Title']) for question in questions], reverse=True)"
   ]
  },
  {
   "cell_type": "code",
   "execution_count": null,
   "metadata": {},
   "outputs": [],
   "source": [
    "fig, axes = plt.subplots(1, 2, figsize=(10,5), gridspec_kw={'width_ratios': [5, 1]})\n",
    "fig.tight_layout()\n",
    "plt.subplots_adjust(wspace=0.3)\n",
    "\n",
    "x = range(0, len(title_length_per_question))\n",
    "y = title_length_per_question\n",
    "axes[0].plot(x, y, 'bo')\n",
    "axes[0].set_title('Title length per question')\n",
    "axes[0].set_xlabel('Question')\n",
    "axes[0].set_ylabel('Number of characters')\n",
    "\n",
    "axes[1].boxplot(title_length_per_question)\n",
    "axes[1].set_yticks(np.arange(0, title_length_per_question[0], 10))\n",
    "axes[1].set_title('Title length per question')\n",
    "axes[1].set_xlabel('Questions')\n",
    "axes[1].set_ylabel('Number of characters')\n",
    "\n",
    "plt.show()"
   ]
  },
  {
   "cell_type": "code",
   "execution_count": null,
   "metadata": {},
   "outputs": [],
   "source": [
    "print_stats(title_length_per_question)"
   ]
  },
  {
   "cell_type": "markdown",
   "metadata": {},
   "source": [
    "We see that title have 15 to 150 characters, while the *mean* ist at **~68** and the *median* at **65** characters."
   ]
  },
  {
   "cell_type": "markdown",
   "metadata": {},
   "source": [
    "***How many characters has the text of a question?*** <a id=\"text_chars\"/>\n",
    "\n",
    "We investigate how many characters the text (`Body`) of a question has."
   ]
  },
  {
   "cell_type": "code",
   "execution_count": null,
   "metadata": {},
   "outputs": [],
   "source": [
    "text_length_per_question = sorted([len(question.attrib['Body']) for question in questions], reverse=True)"
   ]
  },
  {
   "cell_type": "code",
   "execution_count": null,
   "metadata": {},
   "outputs": [],
   "source": [
    "fig, axes = plt.subplots(1, 2, figsize=(10,5), gridspec_kw={'width_ratios': [5, 1]})\n",
    "fig.tight_layout()\n",
    "plt.subplots_adjust(wspace=0.3)\n",
    "\n",
    "x = range(0, len(text_length_per_question))\n",
    "y = text_length_per_question\n",
    "axes[0].plot(x, y, 'bo')\n",
    "axes[0].set_title('Text length per question')\n",
    "axes[0].set_xlabel('Question')\n",
    "axes[0].set_ylabel('Number of characters')\n",
    "\n",
    "axes[1].boxplot(text_length_per_question)\n",
    "axes[1].set_yticks(np.arange(0, text_length_per_question[0], 2000))\n",
    "axes[1].set_title('Text length per question')\n",
    "axes[1].set_xlabel('Questions')\n",
    "axes[1].set_ylabel('Number of characters')\n",
    "\n",
    "plt.show()"
   ]
  },
  {
   "cell_type": "markdown",
   "metadata": {},
   "source": [
    "We notice, that there are a few outliers that have much more characters than the other questions.\n",
    "\n",
    "To investigate further we print the text length of the 5 longest questions."
   ]
  },
  {
   "cell_type": "code",
   "execution_count": null,
   "metadata": {},
   "outputs": [],
   "source": [
    "outlier_amount = 5\n",
    "print('Lengths of the {} longest texts:'.format(outlier_amount))\n",
    "for text_length in text_length_per_question[0:outlier_amount]:\n",
    "    print(text_length)"
   ]
  },
  {
   "cell_type": "markdown",
   "metadata": {},
   "source": [
    "Since the outliers make it difficult to understand the data set, we repeat the analysis of the text length for texts with length < 10000."
   ]
  },
  {
   "cell_type": "code",
   "execution_count": null,
   "metadata": {},
   "outputs": [],
   "source": [
    "text_length_per_question_sm_thousand = [text_length for text_length in text_length_per_question if text_length < 10000]"
   ]
  },
  {
   "cell_type": "code",
   "execution_count": null,
   "metadata": {},
   "outputs": [],
   "source": [
    "fig, axes = plt.subplots(1, 2, figsize=(10,5), gridspec_kw={'width_ratios': [5, 1]})\n",
    "fig.tight_layout()\n",
    "plt.subplots_adjust(wspace=0.3)\n",
    "\n",
    "x = range(0, len(text_length_per_question_sm_thousand))\n",
    "y = text_length_per_question_sm_thousand\n",
    "axes[0].plot(x, y, 'bo')\n",
    "axes[0].set_title('Text length per question')\n",
    "axes[0].set_xlabel('Question')\n",
    "axes[0].set_ylabel('Number of characters')\n",
    "\n",
    "axes[1].boxplot(text_length_per_question_sm_thousand)\n",
    "axes[1].set_yticks(np.arange(0, text_length_per_question_sm_thousand[0], 1000))\n",
    "axes[1].set_title('Text length per question')\n",
    "axes[1].set_xlabel('Questions')\n",
    "axes[1].set_ylabel('Number of characters')\n",
    "\n",
    "plt.show()"
   ]
  },
  {
   "cell_type": "code",
   "execution_count": null,
   "metadata": {},
   "outputs": [],
   "source": [
    "print_stats(text_length_per_question)"
   ]
  },
  {
   "cell_type": "markdown",
   "metadata": {},
   "source": [
    "We see that the most questions have a text length between 457 and 1224 with a *mean* of **~966** and a *median* of **754** characters."
   ]
  },
  {
   "cell_type": "markdown",
   "metadata": {},
   "source": [
    "***How often does a tag appear with other tags?*** <a id=\"tag_cooccurence\"/>\n",
    "\n",
    "We investigate how often tags are used alone or together with other tags.\n",
    "\n",
    "Therefore we create a dictionary including each tag, along with the numbers it is used \\[overall, alone, with one other tag, with two other tags, with three other tags, with four other tags\\] "
   ]
  },
  {
   "cell_type": "code",
   "execution_count": null,
   "metadata": {},
   "outputs": [],
   "source": [
    "tag_appearances = {}\n",
    "for question in questions:\n",
    "    tag_for_question = question.attrib['Tags']\n",
    "    for tag in tag_for_question:\n",
    "        if tag not in tag_appearances:\n",
    "            tag_appearances[tag] = [0, 0, 0, 0, 0, 0]\n",
    "        tag_appearances[tag][0] += 1\n",
    "        tag_appearances[tag][len(tag_for_question)] += 1"
   ]
  },
  {
   "cell_type": "code",
   "execution_count": null,
   "metadata": {},
   "outputs": [],
   "source": [
    "sorted_tag_appearances = dict(sorted(tag_appearances.items(), key = lambda x: (x[1][1], x[1][2], x[1][3], x[1][4], x[1][5]), reverse=True))"
   ]
  },
  {
   "cell_type": "markdown",
   "metadata": {},
   "source": [
    "After sorting the tags and their counts by their appearances we divide the counts by the overall usage of a tag."
   ]
  },
  {
   "cell_type": "code",
   "execution_count": null,
   "metadata": {},
   "outputs": [],
   "source": [
    "normalized_sorted_tag_appearances = {}\n",
    "for key in sorted_tag_appearances.keys():\n",
    "    overall_count = sorted_tag_appearances[key][0]\n",
    "    normalized_sorted_tag_appearances[key] = [count / overall_count for count in sorted_tag_appearances[key]]"
   ]
  },
  {
   "cell_type": "code",
   "execution_count": null,
   "metadata": {},
   "outputs": [],
   "source": [
    "x = range(0, len(normalized_sorted_tag_appearances))\n",
    "y1 = list(map(lambda x: normalized_sorted_tag_appearances[x][1], normalized_sorted_tag_appearances.keys()))\n",
    "y2 = list(map(lambda x: normalized_sorted_tag_appearances[x][2], normalized_sorted_tag_appearances.keys()))\n",
    "y3 = list(map(lambda x: normalized_sorted_tag_appearances[x][3], normalized_sorted_tag_appearances.keys()))\n",
    "y3_bottom = list(map(lambda x: normalized_sorted_tag_appearances[x][1] + normalized_sorted_tag_appearances[x][2], normalized_sorted_tag_appearances.keys()))\n",
    "y4 = list(map(lambda x: normalized_sorted_tag_appearances[x][4], normalized_sorted_tag_appearances.keys()))\n",
    "y4_bottom = list(map(lambda x: normalized_sorted_tag_appearances[x][1] + normalized_sorted_tag_appearances[x][2] + normalized_sorted_tag_appearances[x][3], normalized_sorted_tag_appearances.keys()))\n",
    "y5 = list(map(lambda x: normalized_sorted_tag_appearances[x][5], normalized_sorted_tag_appearances.keys()))\n",
    "y5_bottom = list(map(lambda x: normalized_sorted_tag_appearances[x][1] + normalized_sorted_tag_appearances[x][2] + normalized_sorted_tag_appearances[x][3] + normalized_sorted_tag_appearances[x][4], normalized_sorted_tag_appearances.keys()))\n",
    "\n",
    "bar_width = 2\n",
    "\n",
    "fig, axes = plt.subplots(figsize=(15,4))\n",
    "\n",
    "axes.bar(x, y1, width=bar_width, label='1')\n",
    "axes.bar(x, y2, width=bar_width, bottom=y1, label='2')\n",
    "axes.bar(x, y3, width=bar_width, bottom=y3_bottom, label='3')\n",
    "axes.bar(x, y4, width=bar_width, bottom=y4_bottom, label='4')\n",
    "axes.bar(x, y5, width=bar_width, bottom=y5_bottom, label='5')\n",
    "axes.legend(loc='best')\n",
    "\n",
    "plt.show()"
   ]
  },
  {
   "cell_type": "markdown",
   "metadata": {},
   "source": [
    "We see that more than 300 tags are used alone, with 1 other tag, with 2 other tags, with 3 other tags and with 4 other tags."
   ]
  },
  {
   "cell_type": "code",
   "execution_count": null,
   "metadata": {},
   "outputs": [],
   "source": [
    "#Wie oft taucht ein Tag mit welchen anderen Tags auf?\n",
    "\n",
    "#import networkx as nx\n",
    "\n",
    "#G = nx.Graph()\n",
    "\n",
    "#def addTuples(array, start, end):\n",
    "#    for i in range(start+1, end):\n",
    "#        if array[start] in nx.nodes(G) and array[i] in nx.neighbors(G, array[start]):\n",
    "#            G[array[start]][array[i]]['weight'] += 1\n",
    "#        else:\n",
    "#            G.add_edge(array[start], array[i], weight = 1)\n",
    "#    if end - start > 1:\n",
    "#        addTuples(array, start+1, end)\n",
    "#for question in questions:\n",
    "#    tagArray = question.attrib['Tags']\n",
    "#    addTuples(tagArray, 0, len(tagArray))\n",
    "\n",
    "#plt.figure(figsize=(20,20))\n",
    "#pos = nx.spring_layout(G,k=0.21,iterations=10)\n",
    "#nx.draw(G, pos, )\n",
    "#plt.show()"
   ]
  },
  {
   "cell_type": "code",
   "execution_count": null,
   "metadata": {},
   "outputs": [],
   "source": [
    "# Zusammenhang zwischen Question und Tag(s)"
   ]
  },
  {
   "cell_type": "code",
   "execution_count": null,
   "metadata": {},
   "outputs": [],
   "source": [
    "#x = []\n",
    "#y = []\n",
    "#for question in questions:\n",
    "#    questionId = int(question.attrib['Id'])\n",
    "#    tags = question.attrib['Tags']\n",
    "#    for tag in tags[0:len(tags)-1]:\n",
    "#        x.append(tag)\n",
    "#        y.append(questionId)\n",
    "\n",
    "#fig, axes = plt.subplots(figsize=(20,20))\n",
    "\n",
    "#axes.plot(y, x, 'bo')\n",
    "\n",
    "#plt.show()"
   ]
  },
  {
   "cell_type": "code",
   "execution_count": null,
   "metadata": {},
   "outputs": [],
   "source": [
    "# Tauchen Tags im Titel und/oder Text auf?"
   ]
  },
  {
   "cell_type": "code",
   "execution_count": null,
   "metadata": {},
   "outputs": [],
   "source": [
    "#text = []\n",
    "#title = []\n",
    "#for question in questions:\n",
    "#    questionTitle = question.attrib['Title']\n",
    "#    questionText = question.attrib['Body']\n",
    "#    questionTags = question.attrib['Tags']\n",
    "#    for tag in questionTags:\n",
    "#        title.append(tag in questionTitle)\n",
    "#        text.append(tag in questionText)\n",
    "\n",
    "#print('{:<20}{:<15}{:<15}'.format('Tags in', 'Ja', 'Nein'))\n",
    "#tagInTitle = len(list(filter(lambda x: x, title))) / len(title)\n",
    "#print('{:<20}{:<15.2f}{:<15.2f}'.format('Title', tagInTitle, 1 - tagInTitle))\n",
    "#tagInText = len(list(filter(lambda x: x, text))) / len(text)\n",
    "#print('{:<20}{:<15.2f}{:<15.2f}'.format('Text', tagInText, 1 - tagInText))\n",
    "#tagInTitleAndText = len([True for i, titleVal in enumerate(title) if titleVal and text[i]]) / len(title)\n",
    "#print('{:<20}{:<15.2f}{:<15.2f}'.format('Title und Text', tagInTitleAndText, 1 - tagInTitleAndText))\n",
    "#tagInTitleOrText = len([True for i, titleVal in enumerate(title) if titleVal or text[i]]) / len(title)\n",
    "#print('{:<20}{:<15.2f}{:<15.2f}'.format('Title oder Text', tagInTitleOrText, 1 - tagInTitleOrText))"
   ]
  },
  {
   "cell_type": "markdown",
   "metadata": {},
   "source": [
    "<a id=\"comments\"></a>"
   ]
  },
  {
   "cell_type": "markdown",
   "metadata": {},
   "source": [
    "## Comments\n",
    "\n",
    "To explore the comments we import them from the `data` module:"
   ]
  },
  {
   "cell_type": "code",
   "execution_count": null,
   "metadata": {},
   "outputs": [],
   "source": [
    "from academia_tag_recommender.data import comments as get_comments\n",
    "comments = get_comments()"
   ]
  },
  {
   "cell_type": "markdown",
   "metadata": {},
   "source": [
    "Importing the comments file reveals the size of the comments dataset."
   ]
  },
  {
   "cell_type": "code",
   "execution_count": null,
   "metadata": {},
   "outputs": [],
   "source": [
    "print('There are {0} comments in the data set.'.format(len(comments)))"
   ]
  },
  {
   "cell_type": "markdown",
   "metadata": {},
   "source": [
    "**Example:**\n",
    "\n",
    "To understand which information is given for a specific comment we explore the attributes of an example comment."
   ]
  },
  {
   "cell_type": "code",
   "execution_count": null,
   "metadata": {},
   "outputs": [],
   "source": [
    "print(comments[0].attrib)"
   ]
  },
  {
   "cell_type": "markdown",
   "metadata": {},
   "source": [
    "Which results in having the following attribute keys for comments:"
   ]
  },
  {
   "cell_type": "code",
   "execution_count": null,
   "metadata": {},
   "outputs": [],
   "source": [
    "print(comments[0].keys())"
   ]
  },
  {
   "cell_type": "markdown",
   "metadata": {},
   "source": [
    "<a id=\"votes\"></a>"
   ]
  },
  {
   "cell_type": "markdown",
   "metadata": {},
   "source": [
    "## Votes\n",
    "\n",
    "To explore the comments we import them from the `data` module:"
   ]
  },
  {
   "cell_type": "code",
   "execution_count": null,
   "metadata": {},
   "outputs": [],
   "source": [
    "from academia_tag_recommender.data import votes as get_votes\n",
    "votes = get_votes()"
   ]
  },
  {
   "cell_type": "markdown",
   "metadata": {},
   "source": [
    "Importing the povotessts file reveals the size of the votes dataset."
   ]
  },
  {
   "cell_type": "code",
   "execution_count": null,
   "metadata": {},
   "outputs": [],
   "source": [
    "print('There are {0} votes in the data set.'.format(len(votes)))"
   ]
  },
  {
   "cell_type": "markdown",
   "metadata": {},
   "source": [
    "**Example:**\n",
    "\n",
    "To understand which information is given for a specific vote we explore the attributes of an example vote."
   ]
  },
  {
   "cell_type": "code",
   "execution_count": null,
   "metadata": {},
   "outputs": [],
   "source": [
    "print(votes[0].attrib)"
   ]
  },
  {
   "cell_type": "markdown",
   "metadata": {},
   "source": [
    "Which results in having the following attribute keys for votes:"
   ]
  },
  {
   "cell_type": "code",
   "execution_count": null,
   "metadata": {},
   "outputs": [],
   "source": [
    "print(votes[0].keys())"
   ]
  },
  {
   "cell_type": "code",
   "execution_count": null,
   "metadata": {},
   "outputs": [],
   "source": []
  }
 ],
 "metadata": {
  "kernelspec": {
   "display_name": "Python 3",
   "language": "python",
   "name": "python3"
  },
  "language_info": {
   "codemirror_mode": {
    "name": "ipython",
    "version": 3
   },
   "file_extension": ".py",
   "mimetype": "text/x-python",
   "name": "python",
   "nbconvert_exporter": "python",
   "pygments_lexer": "ipython3",
   "version": "3.8.3"
  },
  "toc-autonumbering": true,
  "toc-showtags": false
 },
 "nbformat": 4,
 "nbformat_minor": 4
}
