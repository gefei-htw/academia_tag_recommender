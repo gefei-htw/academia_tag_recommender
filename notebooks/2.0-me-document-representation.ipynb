{
 "cells": [
  {
   "cell_type": "markdown",
   "metadata": {},
   "source": [
    "# Document representation\n",
    "\n",
    "This notebook evaluates methods for document representation using the [academia.stackexchange.com](https://academia.stackexchange.com/) data dump.\n",
    "\n",
    "## Table of Contents\n",
    "* [Data import](#data_import)\n",
    "* [Document representation methods](#methods)\n",
    "* [Fitting the document representation methods](#fitting)\n",
    "* [Evaluation](#evaluation)"
   ]
  },
  {
   "cell_type": "code",
   "execution_count": 1,
   "metadata": {},
   "outputs": [],
   "source": [
    "%load_ext autoreload\n",
    "%autoreload 2\n",
    "\n",
    "import matplotlib.pyplot as plt\n",
    "import numpy as np\n",
    "from joblib import dump, load\n",
    "from academia_tag_recommender.definitions import MODELS_PATH"
   ]
  },
  {
   "cell_type": "markdown",
   "metadata": {},
   "source": [
    "<a id='data_import'/>"
   ]
  },
  {
   "cell_type": "markdown",
   "metadata": {},
   "source": [
    "## Data Import\n",
    "\n",
    "Since we don´t need all of the questions attributes from the raw data dump, we import a cleaner version."
   ]
  },
  {
   "cell_type": "code",
   "execution_count": 2,
   "metadata": {},
   "outputs": [],
   "source": [
    "from academia_tag_recommender.documents import documents"
   ]
  },
  {
   "cell_type": "markdown",
   "metadata": {},
   "source": [
    "**Example:**\n",
    "\n",
    "We show an example document for demonstration purposes:"
   ]
  },
  {
   "cell_type": "code",
   "execution_count": 3,
   "metadata": {},
   "outputs": [
    {
     "name": "stdout",
     "output_type": "stream",
     "text": [
      "{'title': 'What kind of Visa is required to work in Academia in Japan?', 'body': '<p>As from title. What kind of visa class do I have to apply for, in order to work as an academic in Japan ? </p>\\n', 'text': 'What kind of Visa is required to work in Academia in Japan?<p>As from title. What kind of visa class do I have to apply for, in order to work as an academic in Japan ? </p>\\n', 'tags': ['job-search', 'visa', 'japan']}\n"
     ]
    }
   ],
   "source": [
    "print(documents[0].__dict__)"
   ]
  },
  {
   "cell_type": "markdown",
   "metadata": {},
   "source": [
    "Which results in having the following attribute keys for documents:"
   ]
  },
  {
   "cell_type": "code",
   "execution_count": 4,
   "metadata": {},
   "outputs": [
    {
     "name": "stdout",
     "output_type": "stream",
     "text": [
      "dict_keys(['title', 'body', 'text', 'tags'])\n"
     ]
    }
   ],
   "source": [
    "print(documents[0].__dict__.keys())"
   ]
  },
  {
   "cell_type": "markdown",
   "metadata": {},
   "source": [
    "Where the `tags` have already been separated into strings and the `text` is a concatenated version of `title` and `body`."
   ]
  },
  {
   "cell_type": "markdown",
   "metadata": {},
   "source": [
    "<a id='methods'/>"
   ]
  },
  {
   "cell_type": "markdown",
   "metadata": {},
   "source": [
    "## Document representation methods\n",
    "\n",
    "To classify documents we need to choose an appropriate method to represent the documents.\n",
    "\n",
    "This task is usually divided into text preprocessing and text transformation."
   ]
  },
  {
   "cell_type": "markdown",
   "metadata": {},
   "source": [
    "**Text Preprocessing**\n",
    "\n",
    "Text Preprocessing defines which characters of the documents text will be part of the document representation. That decision is split into the following questions:\n",
    "\n",
    "* **Preprocessing**\n",
    "\n",
    "    In a preprocessing step we can remove parts of the text, that should not be part of the document representation (e.g. html tags, numbers, punctuation).\n",
    "\n",
    "* **Tokenization**:\n",
    "\n",
    "    In the tokenization step the text gets split into a vector of tokens. We define where to split the text (e.g. spaces, punctuation) and how to decide if a part of the text should appear in the vector (e.g. minimum length). Furthermore we can decide if unigrams (one word), bigrams (phrases consisting of two words) or even trigrams (phrases consisting of three words) should be tokens (called 'ngrams').\n",
    "    \n",
    "    Another decision has to made regarding how to differentiate between tokens. It might be not relevant whether text includes *student* or *students*, so it might be a could option to choose the same representation for both of them. This step is called *Normalization*. There are different normalization algorithms that either stem words to their word stem (e.g. Porter Stemmer, Lancaster Stemmer) or choose a generell represation for words describing the same topic (Lemmatizer).\n",
    "\n",
    "* **Stop word removal**\n",
    "\n",
    "    In natural speech there are words that appear often regardless of the meaning of the text. For text classification those might not be relevant (e.g. articles, pronouns). We can choose to remove them from the document representation.\n",
    "\n",
    "\n",
    "**Text Transformation**\n",
    "\n",
    "If we have the set of tokens we need to decide how to represent these features numerically for each of the documents.\n",
    "\n",
    "* **Count** \n",
    "    \n",
    "    The *count* describes how often the token appears in the document (absolute).\n",
    "    \n",
    "* **Term-frequency times inverse document-frequency (tfidf)**: \n",
    "    \n",
    "    Where *term-frequency* describes how often the token appears in the document (normalized) and *document-frequency* describes the overall occurence of a term in the corpus.\n",
    "    \n",
    "    \n",
    "**NLTK**\n",
    "\n",
    "The [Natural Language Toolkit](https://www.nltk.org/) is a package to help with natural language tasks. For example it provides implementations of the stemming and lemmatization algorithms. We will use the function [`word_tokenize`](https://www.nltk.org/api/nltk.tokenize.html?highlight=word_tokenize#nltk.tokenize.word_tokenize) and the classes [`WordNetLemmatizer`](https://www.nltk.org/api/nltk.stem.html?highlight=lemmatizer#nltk.stem.wordnet.WordNetLemmatizer), [`EnglishStemmer`](https://www.nltk.org/api/nltk.stem.html?highlight=englishstemmer#nltk.stem.snowball.EnglishStemmer), [`PorterStemmer`](https://www.nltk.org/api/nltk.stem.html?highlight=porter%20stemmer#nltk.stem.porter.PorterStemmer), [`LancasterStemmer`](https://www.nltk.org/api/nltk.stem.html?highlight=lancasterstemmer#nltk.stem.lancaster.LancasterStemmer).\n",
    "\n",
    "**scikit-learn**\n",
    "\n",
    "[scikit-learn](https://scikit-learn.org/stable/) is a python package designed for machine learning tasks. We will use this package for the document representation.\n",
    "\n",
    "The text transformation task is called *[Feature extraction](https://scikit-learn.org/stable/modules/classes.html#module-sklearn.feature_extraction)* in scikit-learn. We will use the class [`CountVectorizer`](https://scikit-learn.org/stable/modules/generated/sklearn.feature_extraction.text.CountVectorizer.html#sklearn.feature_extraction.text.CountVectorizer) and [`TfidfVectorizer`](https://scikit-learn.org/stable/modules/generated/sklearn.feature_extraction.text.TfidfTransformer.html#sklearn.feature_extraction.text.TfidfTransformer) to test the two methods discussed above."
   ]
  },
  {
   "cell_type": "markdown",
   "metadata": {},
   "source": [
    "### Parameters for testing\n",
    "\n",
    "The above described methods result in the following parameters for the decision which document representation to use. In the case of ` Preprocessor` and `Tokenizer` the value `None` means that we use `scikit-learn`s standard implementation.\n",
    "\n",
    "* Vectorizer `CountVectorizer`, `TfidfVectorizer`\n",
    "* Preprocessor `None`, `BasicPreprocessor` \n",
    "* Tokenizer\n",
    "    * without normalization: `None`, `BasicTokenizer`\n",
    "    * with normalization:\n",
    "        * Stemmer: `EnglishStemmer`, `PorterStemmer`, `LancasterStemmer`\n",
    "        * Lemmatizer: `Lemmatizer`\n",
    "* Stopwords `None`, `'english'`\n",
    "* NGrams `(1, 1)`, `(1, 2)`, `(1, 3)`, `(2, 2)`, `(2, 3)`, `(3, 3)`"
   ]
  },
  {
   "cell_type": "code",
   "execution_count": 5,
   "metadata": {},
   "outputs": [],
   "source": [
    "from sklearn.feature_extraction.text import CountVectorizer, TfidfVectorizer\n",
    "from academia_tag_recommender.preprocessor import BasicPreprocessor\n",
    "from academia_tag_recommender.tokenizer import BasicTokenizer, EnglishStemmer, PorterStemmer, LancasterStemmer, Lemmatizer\n",
    "from academia_tag_recommender.vectorizer_computation import get_vect_feat_with_params"
   ]
  },
  {
   "cell_type": "markdown",
   "metadata": {},
   "source": [
    "The function `get_vect_feat_with_params` returns the vectorizer and the features that result in fitting a model with the given parameters. It only fits the model if it has not been fitted before, since those models get stored in a file."
   ]
  },
  {
   "cell_type": "code",
   "execution_count": 6,
   "metadata": {},
   "outputs": [],
   "source": [
    "vectorizers = [CountVectorizer, TfidfVectorizer]\n",
    "preprocessors = [None, BasicPreprocessor]\n",
    "tokenizers = [None, BasicTokenizer, EnglishStemmer, PorterStemmer, LancasterStemmer, Lemmatizer]\n",
    "stop_word_options = [None, 'yes']\n",
    "n_gram_options = [(1,1), (1,2), (2,2), (1,3), (2,3), (3,3)]"
   ]
  },
  {
   "cell_type": "markdown",
   "metadata": {},
   "source": [
    "<a id='fitting'/>"
   ]
  },
  {
   "cell_type": "markdown",
   "metadata": {},
   "source": [
    "## Fitting the document representation models\n",
    "\n",
    "As data input we only need the texts of the documents."
   ]
  },
  {
   "cell_type": "code",
   "execution_count": 7,
   "metadata": {},
   "outputs": [],
   "source": [
    "texts = [document.text for document in documents]"
   ]
  },
  {
   "cell_type": "markdown",
   "metadata": {},
   "source": [
    "The following function trains models for all the given paramters. Those are stored and can be accessed individually."
   ]
  },
  {
   "cell_type": "code",
   "execution_count": 8,
   "metadata": {},
   "outputs": [],
   "source": [
    "def create_models_with_paramters(vectorizers, preprocessors, tokenizers, stop_word_options, n_gram_options):\n",
    "    for v in vectorizers:\n",
    "        for p in preprocessors:\n",
    "            for t in tokenizers:\n",
    "                for s in stop_word_options:\n",
    "                    for n in n_gram_options:\n",
    "                        get_vect_feat_with_params(texts, v, t, p, s, n, True)"
   ]
  },
  {
   "cell_type": "code",
   "execution_count": 9,
   "metadata": {},
   "outputs": [],
   "source": [
    "# create_models_with_paramters(vectorizers, preprocessors, tokenizers, stop_word_options, n_gram_options)"
   ]
  },
  {
   "cell_type": "markdown",
   "metadata": {},
   "source": [
    "<a id='evaluation'/>"
   ]
  },
  {
   "cell_type": "markdown",
   "metadata": {},
   "source": [
    "## Evaluation\n",
    "\n",
    "While fitting the document representation models we save some computation results (e.g. processing time) to compare the methods afterwards.\n",
    "\n",
    "This is just a basic evaluation regarding performance and feature vector size. The *best* document representation model can only be determined after classification."
   ]
  },
  {
   "cell_type": "code",
   "execution_count": 10,
   "metadata": {},
   "outputs": [],
   "source": [
    "results = load(MODELS_PATH + '/document_representation/results.joblib')"
   ]
  },
  {
   "cell_type": "markdown",
   "metadata": {},
   "source": [
    "We can access models with a specific *n_grams* option."
   ]
  },
  {
   "cell_type": "code",
   "execution_count": 11,
   "metadata": {},
   "outputs": [],
   "source": [
    "unigrams = [result for result in results if result['n_grams'] == '(1, 1)']\n",
    "bigrams = [result for result in results if result['n_grams'] == '(2, 2)']\n",
    "trigrams = [result for result in results if result['n_grams'] == '(3, 3)']"
   ]
  },
  {
   "cell_type": "markdown",
   "metadata": {},
   "source": [
    "**Shape and Processing Time**\n",
    "\n",
    "We examine the shape and processing time of the feature vectors depending on the *Tokenizer*, the *Preprocessor* and if a *stopwordlist* is used.."
   ]
  },
  {
   "cell_type": "code",
   "execution_count": 12,
   "metadata": {},
   "outputs": [
    {
     "data": {
      "image/png": "[encoded data removed]",
      "text/plain": [
       "<Figure size 1080x360 with 2 Axes>"
      ]
     },
     "metadata": {
      "needs_background": "light"
     },
     "output_type": "display_data"
    }
   ],
   "source": [
    "labels = ['none', 'BasicTokenizer', 'EnglishStemmer', 'PorterStemmer', 'LancasterStemmer', 'Lemmatizer']\n",
    "count_vect_unigrams = [unigram for unigram in unigrams if unigram['v'] == 'CountVectorizer']\n",
    "count_vect_unigrams.sort(key = lambda unigram: labels.index(unigram['t']))\n",
    "\n",
    "def feat_with_values(feature, p, s):\n",
    "    arr = [unigram[feature] for unigram in count_vect_unigrams if unigram['stopwords'] == s and unigram['p'] == p]\n",
    "    if isinstance(arr[0], tuple):\n",
    "        arr = [feat[1] for feat in arr]\n",
    "    return arr\n",
    "                 \n",
    "x = np.arange(len(labels))\n",
    "bar_width = 0.20\n",
    "\n",
    "fig, axes = plt.subplots(1, 2, figsize=(15,5))\n",
    "fig.tight_layout()\n",
    "plt.subplots_adjust(wspace=0.2)\n",
    "\n",
    "def bar_with_feat(feature, ax):\n",
    "    ax.bar(x - bar_width/2*3, feat_with_values(feature, 'none', 'none'), bar_width, label='p = none, stopwords = none')\n",
    "    ax.bar(x - bar_width/2, feat_with_values(feature, 'none', 'yes'), bar_width, label='p = none, stopwords = yes')\n",
    "    ax.bar(x + bar_width/2, feat_with_values(feature, 'BasicPreprocessor', 'none'), bar_width, label='p = BasicPreprocessor, stopwords = none')\n",
    "    ax.bar(x + bar_width/2*3, feat_with_values(feature, 'BasicPreprocessor', 'yes'), bar_width, label='p = BasicPreprocessor, stopwords = yes')\n",
    "    ax.set_ylabel('{}'.format(feature.capitalize()))\n",
    "    ax.set_title('{} by Tokenizer w/o Preprocessor and w/o Stopwords'.format(feature.capitalize()))\n",
    "    ax.set_xticks(x)\n",
    "    ax.set_xlabel('Tokenizer')\n",
    "    ax.set_xticklabels(labels)\n",
    "    ax.legend()\n",
    "    \n",
    "bar_with_feat('shape', axes[0])\n",
    "bar_with_feat('time', axes[1])\n",
    "\n",
    "plt.show()"
   ]
  },
  {
   "cell_type": "markdown",
   "metadata": {},
   "source": [
    "Looking at the graphs we see that the usage of a *stopwordlist* does have an insignificant effect on the shape of the feature vector, while it increases the processing time slightly.\n",
    "\n",
    "The *preprocessor* used by the nltk implementation does lead to more features while usually having a longer processing time than the BasicPreprocessor.\n",
    "\n",
    "We see a big difference in the processing time of the *tokenizers*, where no tokenizer is obviously the fastest. While the `EnglishStemmer` and the `PorterStemmer`seem to lead to the same amount of features, the `PorterStemmer` does need much more time compute. \n",
    "\n",
    "The `LancasterStemmer` takes by far the longest processing time."
   ]
  },
  {
   "cell_type": "markdown",
   "metadata": {},
   "source": [
    "**TfidfVectorizer**\n",
    "\n",
    "To explore the effect of the inverse document frequency of the `TfidfVectorizer` we compare the numerical values of the features."
   ]
  },
  {
   "cell_type": "code",
   "execution_count": 13,
   "metadata": {},
   "outputs": [
    {
     "name": "stdout",
     "output_type": "stream",
     "text": [
      "Received saved model\n",
      "Received saved model\n",
      "Received saved model\n",
      "Received saved model\n",
      "Received saved model\n",
      "Received saved model\n"
     ]
    },
    {
     "data": {
      "image/png": "[encoded data removed]",
      "text/plain": [
       "<Figure size 1080x360 with 1 Axes>"
      ]
     },
     "metadata": {
      "needs_background": "light"
     },
     "output_type": "display_data"
    }
   ],
   "source": [
    "v = TfidfVectorizer\n",
    "p = BasicPreprocessor\n",
    "ts = [None, BasicTokenizer, EnglishStemmer, PorterStemmer, LancasterStemmer, Lemmatizer]\n",
    "stopwords = 'yes'\n",
    "ngrams = '(1, 1)'\n",
    "\n",
    "fig, ax = plt.subplots(figsize=(15,5))\n",
    "\n",
    "histograms = []\n",
    "for tokenizer in ts:\n",
    "    [vectorizer, features] = get_vect_feat_with_params(texts, v, tokenizer, p, stopwords, ngrams, False)\n",
    "\n",
    "    y, binEdges = np.histogram(vectorizer.idf_, bins=50)\n",
    "    bincenters = 0.5*(binEdges[1:]+binEdges[:-1])\n",
    "    ax.plot(bincenters, y)\n",
    "\n",
    "ax.set_xlabel('document-frequency')\n",
    "ax.set_ylabel('Number of features')\n",
    "ax.legend([t.__name__ if t else 'None' for t in ts])\n",
    "\n",
    "plt.show()"
   ]
  },
  {
   "cell_type": "markdown",
   "metadata": {},
   "source": [
    "Plotting the histogram data for 50 bins reveals that the document-frequency is higher than 6 for the majority of the words. Using the `TfidfVectorizer` with the inverse document-frequencies will lead to many features with values close to zero. And therefore helps focussing on the features that are descriptive for the document."
   ]
  },
  {
   "cell_type": "markdown",
   "metadata": {},
   "source": [
    "**Count vs. Tfidf**\n",
    "\n",
    "To see the above stated effect clearlier we investigate the feature values of the document representation models.\n",
    "\n",
    "We first define the value ranges we want to inspect."
   ]
  },
  {
   "cell_type": "code",
   "execution_count": 14,
   "metadata": {},
   "outputs": [],
   "source": [
    "ranges = [(1, 1), (2, 10), (11, 100), (101, 1000), (1001, 10000), (10001, 100000), (1001, 2000), (2001, 3000), (3001, 4000), (4001, 5000), (5001, 6000), (6001, 7000), (7001, 8000), (8001, 9000), (9001, 10000), (10001, 100000)]"
   ]
  },
  {
   "cell_type": "markdown",
   "metadata": {},
   "source": [
    "Afterwards we define some functions that help us examine the features for a given model."
   ]
  },
  {
   "cell_type": "code",
   "execution_count": 15,
   "metadata": {},
   "outputs": [],
   "source": [
    "def get_number_of_values_in_range(data: list, range_: tuple) -> int:\n",
    "    return len([value for _, value in data if value >= range_[0] and value <= range_[1]])\n",
    "\n",
    "def get_statistics_for(data: list) -> dict:\n",
    "    stats = {}\n",
    "    stats['features'] = len(data)\n",
    "    stats['min'] = data[-1][1]\n",
    "    stats['max'] = data[0][1]\n",
    "    for range_ in ranges:\n",
    "        stats['[{}-{}]'.format(*range_)] = get_number_of_values_in_range(data, range_)\n",
    "    return stats\n",
    "\n",
    "def get_summed_values(vocabulary, features):\n",
    "    sum_words = features.sum(axis=0)\n",
    "    words_freq = [(word, sum_words[0, idx]) for word, idx in vocabulary]\n",
    "    return list(sorted(words_freq, key = lambda x: x[1], reverse=True))\n",
    "\n",
    "def analyze(v, p, t, stopwords, ngrams): \n",
    "    [vectorizer, features] = get_vect_feat_with_params(texts, v, t, p, stopwords, ngrams, False)\n",
    "    summed_values = get_summed_values(vectorizer.vocabulary_.items(), features)\n",
    "    return get_statistics_for(summed_values)"
   ]
  },
  {
   "cell_type": "code",
   "execution_count": 16,
   "metadata": {},
   "outputs": [
    {
     "name": "stdout",
     "output_type": "stream",
     "text": [
      "Received saved model\n",
      "Received saved model\n",
      "Received saved model\n",
      "Received saved model\n",
      "Received saved model\n",
      "Received saved model\n",
      "Received saved model\n",
      "Received saved model\n",
      "Received saved model\n",
      "Received saved model\n",
      "Received saved model\n",
      "Received saved model\n"
     ]
    }
   ],
   "source": [
    "ts = [None, BasicTokenizer, EnglishStemmer, PorterStemmer, LancasterStemmer, Lemmatizer]\n",
    "\n",
    "stats = {'CountVectorizer': {}, 'TfidfVectorizer': {}}\n",
    "for tokenizer in ts:\n",
    "    stats['CountVectorizer'][tokenizer.__name__ if tokenizer else 'None'] = analyze(CountVectorizer, BasicPreprocessor, tokenizer, 'yes', (1, 1))\n",
    "    stats['TfidfVectorizer'][tokenizer.__name__ if tokenizer else 'None'] = analyze(TfidfVectorizer, BasicPreprocessor, tokenizer, 'yes', (1, 1))"
   ]
  },
  {
   "cell_type": "code",
   "execution_count": 17,
   "metadata": {},
   "outputs": [],
   "source": [
    "def print_stats_for(vectorizer: str):\n",
    "    print('\\nStats for {}'.format(vectorizer))\n",
    "    print_string = '{:<15}' + ''.join(['{:<15}' for t in ts])\n",
    "    p\n",
    "    print(print_string.format(*(['Range']+print_title)))\n",
    "    print(print_string.format(*(['Features']+[stats[vectorizer][t]['features'] for t in print_title])))\n",
    "    for range_ in ranges:\n",
    "        key = '[{}-{}]'.format(*range_)\n",
    "        print(print_string.format(*([key]+[stats[vectorizer][t][key] for t in print_title])))"
   ]
  },
  {
   "cell_type": "code",
   "execution_count": 18,
   "metadata": {},
   "outputs": [
    {
     "name": "stdout",
     "output_type": "stream",
     "text": [
      "\n",
      "Stats for CountVectorizer\n",
      "Range          None           BasicTokenizer EnglishStemmer PorterStemmer  LancasterStemmerLemmatizer     \n"
     ]
    },
    {
     "ename": "NameError",
     "evalue": "name 'print_title' is not defined",
     "output_type": "error",
     "traceback": [
      "\u001b[1;31m---------------------------------------------------------------------------\u001b[0m",
      "\u001b[1;31mNameError\u001b[0m                                 Traceback (most recent call last)",
      "\u001b[1;32m<ipython-input-18-d26701375141>\u001b[0m in \u001b[0;36m<module>\u001b[1;34m\u001b[0m\n\u001b[1;32m----> 1\u001b[1;33m \u001b[0mprint_stats_for\u001b[0m\u001b[1;33m(\u001b[0m\u001b[1;34m'CountVectorizer'\u001b[0m\u001b[1;33m)\u001b[0m\u001b[1;33m\u001b[0m\u001b[1;33m\u001b[0m\u001b[0m\n\u001b[0m\u001b[0;32m      2\u001b[0m \u001b[0mprint_stats_for\u001b[0m\u001b[1;33m(\u001b[0m\u001b[1;34m'TfidfVectorizer'\u001b[0m\u001b[1;33m)\u001b[0m\u001b[1;33m\u001b[0m\u001b[1;33m\u001b[0m\u001b[0m\n",
      "\u001b[1;32m<ipython-input-17-2e0529b58ffd>\u001b[0m in \u001b[0;36mprint_stats_for\u001b[1;34m(vectorizer)\u001b[0m\n\u001b[0;32m      3\u001b[0m     \u001b[0mprint_string\u001b[0m \u001b[1;33m=\u001b[0m \u001b[1;34m'{:<15}'\u001b[0m \u001b[1;33m+\u001b[0m \u001b[1;34m''\u001b[0m\u001b[1;33m.\u001b[0m\u001b[0mjoin\u001b[0m\u001b[1;33m(\u001b[0m\u001b[1;33m[\u001b[0m\u001b[1;34m'{:<15}'\u001b[0m \u001b[1;32mfor\u001b[0m \u001b[0mt\u001b[0m \u001b[1;32min\u001b[0m \u001b[0mts\u001b[0m\u001b[1;33m]\u001b[0m\u001b[1;33m)\u001b[0m\u001b[1;33m\u001b[0m\u001b[1;33m\u001b[0m\u001b[0m\n\u001b[0;32m      4\u001b[0m     \u001b[0mprint\u001b[0m\u001b[1;33m(\u001b[0m\u001b[0mprint_string\u001b[0m\u001b[1;33m.\u001b[0m\u001b[0mformat\u001b[0m\u001b[1;33m(\u001b[0m\u001b[1;33m*\u001b[0m\u001b[1;33m(\u001b[0m\u001b[1;33m[\u001b[0m\u001b[1;34m'Range'\u001b[0m\u001b[1;33m]\u001b[0m\u001b[1;33m+\u001b[0m\u001b[1;33m[\u001b[0m\u001b[0mt\u001b[0m\u001b[1;33m.\u001b[0m\u001b[0m__name__\u001b[0m \u001b[1;32mif\u001b[0m \u001b[0mt\u001b[0m \u001b[1;32melse\u001b[0m \u001b[1;34m'None'\u001b[0m \u001b[1;32mfor\u001b[0m \u001b[0mt\u001b[0m \u001b[1;32min\u001b[0m \u001b[0mts\u001b[0m\u001b[1;33m]\u001b[0m\u001b[1;33m)\u001b[0m\u001b[1;33m)\u001b[0m\u001b[1;33m)\u001b[0m\u001b[1;33m\u001b[0m\u001b[1;33m\u001b[0m\u001b[0m\n\u001b[1;32m----> 5\u001b[1;33m     \u001b[0mprint\u001b[0m\u001b[1;33m(\u001b[0m\u001b[0mprint_string\u001b[0m\u001b[1;33m.\u001b[0m\u001b[0mformat\u001b[0m\u001b[1;33m(\u001b[0m\u001b[1;33m*\u001b[0m\u001b[1;33m(\u001b[0m\u001b[1;33m[\u001b[0m\u001b[1;34m'Features'\u001b[0m\u001b[1;33m]\u001b[0m\u001b[1;33m+\u001b[0m\u001b[1;33m[\u001b[0m\u001b[0mstats\u001b[0m\u001b[1;33m[\u001b[0m\u001b[0mvectorizer\u001b[0m\u001b[1;33m]\u001b[0m\u001b[1;33m[\u001b[0m\u001b[0mt\u001b[0m\u001b[1;33m]\u001b[0m\u001b[1;33m[\u001b[0m\u001b[1;34m'features'\u001b[0m\u001b[1;33m]\u001b[0m \u001b[1;32mfor\u001b[0m \u001b[0mt\u001b[0m \u001b[1;32min\u001b[0m \u001b[0mprint_title\u001b[0m\u001b[1;33m]\u001b[0m\u001b[1;33m)\u001b[0m\u001b[1;33m)\u001b[0m\u001b[1;33m)\u001b[0m\u001b[1;33m\u001b[0m\u001b[1;33m\u001b[0m\u001b[0m\n\u001b[0m\u001b[0;32m      6\u001b[0m     \u001b[1;32mfor\u001b[0m \u001b[0mrange_\u001b[0m \u001b[1;32min\u001b[0m \u001b[0mranges\u001b[0m\u001b[1;33m:\u001b[0m\u001b[1;33m\u001b[0m\u001b[1;33m\u001b[0m\u001b[0m\n\u001b[0;32m      7\u001b[0m         \u001b[0mkey\u001b[0m \u001b[1;33m=\u001b[0m \u001b[1;34m'[{}-{}]'\u001b[0m\u001b[1;33m.\u001b[0m\u001b[0mformat\u001b[0m\u001b[1;33m(\u001b[0m\u001b[1;33m*\u001b[0m\u001b[0mrange_\u001b[0m\u001b[1;33m)\u001b[0m\u001b[1;33m\u001b[0m\u001b[1;33m\u001b[0m\u001b[0m\n",
      "\u001b[1;31mNameError\u001b[0m: name 'print_title' is not defined"
     ]
    }
   ],
   "source": [
    "print_stats_for('CountVectorizer')\n",
    "print_stats_for('TfidfVectorizer')"
   ]
  },
  {
   "cell_type": "markdown",
   "metadata": {},
   "source": [
    "For the defined ranges we print how many features have summed counts inside the range.\n",
    "\n",
    "Whe comparing the `CountVectorizer` to the `TfidfVectorizer` we see again, that it prevents the values from getting too big resulting in more feature values that are small. When fitting the categorizer models we might benefit from smaller values computationwise."
   ]
  },
  {
   "cell_type": "code",
   "execution_count": null,
   "metadata": {},
   "outputs": [],
   "source": []
  }
 ],
 "metadata": {
  "kernelspec": {
   "display_name": "Python 3",
   "language": "python",
   "name": "python3"
  },
  "language_info": {
   "codemirror_mode": {
    "name": "ipython",
    "version": 3
   },
   "file_extension": ".py",
   "mimetype": "text/x-python",
   "name": "python",
   "nbconvert_exporter": "python",
   "pygments_lexer": "ipython3",
   "version": "3.8.3"
  }
 },
 "nbformat": 4,
 "nbformat_minor": 4
}
