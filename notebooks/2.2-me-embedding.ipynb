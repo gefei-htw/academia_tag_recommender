{
 "cells": [
  {
   "cell_type": "markdown",
   "metadata": {},
   "source": [
    "# Embedding\n",
    "\n",
    "This notebook evaluates methods for embedded document representation using the [academia.stackexchange.com](https://academia.stackexchange.com/) data dump.\n",
    "\n",
    "## Table of Contents\n",
    "* [Data import](#data_import)\n",
    "* [Embedding](#embedding)\n",
    "* [Experiments](#experiments)\n",
    "* [Evaluation](#evaluation)\n",
    "* [Dimension Reduction](#dim_reduce)"
   ]
  },
  {
   "cell_type": "code",
   "execution_count": 1,
   "metadata": {},
   "outputs": [],
   "source": [
    "%load_ext autoreload\n",
    "%autoreload 2"
   ]
  },
  {
   "cell_type": "markdown",
   "metadata": {},
   "source": [
    "<a id='data_import'/>"
   ]
  },
  {
   "cell_type": "markdown",
   "metadata": {},
   "source": [
    "## Data Import"
   ]
  },
  {
   "cell_type": "code",
   "execution_count": 2,
   "metadata": {},
   "outputs": [],
   "source": [
    "from academia_tag_recommender.experiments.data import ExperimentalData\n",
    "\n",
    "ed = ExperimentalData.load()"
   ]
  },
  {
   "cell_type": "markdown",
   "metadata": {},
   "source": [
    "<a id='prep'/>"
   ]
  },
  {
   "cell_type": "markdown",
   "metadata": {},
   "source": [
    "## Data Preparation"
   ]
  },
  {
   "cell_type": "code",
   "execution_count": 3,
   "metadata": {},
   "outputs": [],
   "source": [
    "X_train, _, _, _ = ed.get_train_test_set()\n",
    "X_train = [[x] for x in X_train]"
   ]
  },
  {
   "cell_type": "markdown",
   "metadata": {},
   "source": [
    "<a id='embedding'/>"
   ]
  },
  {
   "cell_type": "markdown",
   "metadata": {},
   "source": [
    "## Embedding\n",
    "\n",
    "> Word embedding is a term used for the representation of words for text analysis, typically in the form of a real-valued vector that encodes the meaning of the word such that the words that are closer in the vector space are expected to be similar in meaning. [Wikipedia contributors (2021)][1]\n",
    "\n",
    "The following word embedding models will be for this approach:\n",
    "- Word2Vec\n",
    "- Doc2Vec\n",
    "- FastText\n",
    "\n",
    "\n",
    "**Word2Vec**\n",
    "> The word2vec tool takes a text corpus as input and produces the word vectors as output. It first constructs a vocabulary from the training text data and then learns vector representation of words. The resulting word vector file can be used as features in many natural language processing and machine learning applications. [Google (2013)][2]\n",
    "\n",
    "\n",
    "**Doc2Vec**\n",
    "> Le and Mikolov in 2014 introduced the Doc2Vec algorithm, which usually outperforms such simple-averaging of Word2Vec vectors. The basic idea is: act as if a document has another floating word-like vector, which contributes to all training predictions, and is updated like other word-vectors, but we will call it a doc-vector. [Radim Řehůřek (2020)][3]\n",
    "\n",
    "\n",
    "**FastText**\n",
    "> The main principle behind [F]astText is that the morphological structure of a word carries important information about the meaning of the word. Such structure is not taken into account by traditional word embeddings like Word2Vec, which train a unique word embedding for every individual word. [F]astText attempts to solve this by treating each word as the aggregation of its subwords. For the sake of simplicity and language-independence, subwords are taken to be the character ngrams of the word. The vector for a word is simply taken to be the sum of all vectors of its component char-ngrams. [Radim Řehůřek (2020)][4]\n",
    "\n",
    "[1]: https://en.wikipedia.org/wiki/Word_embedding\n",
    "[2]: https://code.google.com/archive/p/word2vec/\n",
    "[3]: https://radimrehurek.com/gensim/auto_examples/tutorials/run_doc2vec_lee.html#sphx-glr-auto-examples-tutorials-run-doc2vec-lee-py\n",
    "[4]: https://radimrehurek.com/gensim/auto_examples/tutorials/run_fasttext.html#sphx-glr-auto-examples-tutorials-run-fasttext-py"
   ]
  },
  {
   "cell_type": "markdown",
   "metadata": {},
   "source": [
    "<a id='experiments'/>"
   ]
  },
  {
   "cell_type": "markdown",
   "metadata": {},
   "source": [
    "## Experiments\n",
    "\n",
    "Before preprocessing a document is still a whole sentence, including punctuation and html tags."
   ]
  },
  {
   "cell_type": "code",
   "execution_count": 4,
   "metadata": {},
   "outputs": [
    {
     "name": "stdout",
     "output_type": "stream",
     "text": [
      "['What kind of Visa is required to work in Academia in Japan? <p>As from title. What kind of visa class do I have to apply for, in order to work as an academic in Japan ? </p>\\n']\n"
     ]
    }
   ],
   "source": [
    "print(X_train[0])"
   ]
  },
  {
   "cell_type": "markdown",
   "metadata": {},
   "source": [
    "**Word2Vec**\n",
    "\n",
    "First the string sentences are tokenized into arrays of strings representing the words. Punctuation and html tags are removed."
   ]
  },
  {
   "cell_type": "code",
   "execution_count": 5,
   "metadata": {},
   "outputs": [
    {
     "name": "stdout",
     "output_type": "stream",
     "text": [
      "[['kind', 'visa', 'required', 'work', 'academia', 'japan'], ['title'], ['kind', 'visa', 'class', 'apply', 'order', 'work', 'academic', 'japan']]\n"
     ]
    }
   ],
   "source": [
    "from academia_tag_recommender.embedded_data import Word2Tok\n",
    "sentences = Word2Tok(X_train, flat=False)\n",
    "\n",
    "print(list(sentences)[0:3])"
   ]
  },
  {
   "cell_type": "markdown",
   "metadata": {},
   "source": [
    "A `Word2Vec` model is trained using the tokenized sentences."
   ]
  },
  {
   "cell_type": "code",
   "execution_count": 6,
   "metadata": {},
   "outputs": [
    {
     "name": "stdout",
     "output_type": "stream",
     "text": [
      "Training the model on the documents results in 12816 words in the vocabulary.\n"
     ]
    }
   ],
   "source": [
    "from gensim.models import Word2Vec\n",
    "model = Word2Vec(sentences=sentences)\n",
    "wv = model.wv\n",
    "del model\n",
    "wv.init_sims(replace=True)\n",
    "print('Training the model on the documents results in {} words in the vocabulary.'.format(len(wv.vocab)))"
   ]
  },
  {
   "cell_type": "markdown",
   "metadata": {},
   "source": [
    "The `Word2Vec` can now be used to generate a vectors for words. Per default implementation the vector has 100 features."
   ]
  },
  {
   "cell_type": "code",
   "execution_count": 7,
   "metadata": {},
   "outputs": [
    {
     "data": {
      "text/plain": [
       "array([-0.01126248, -0.03342965,  0.10469431,  0.07857093, -0.03391938,\n",
       "        0.00404332,  0.10155719,  0.07995059, -0.08427179,  0.1122121 ,\n",
       "       -0.07148434, -0.08021346, -0.0962241 ,  0.00917253, -0.0475006 ,\n",
       "        0.1242073 ,  0.14381252, -0.0881118 ,  0.16303246, -0.11870279,\n",
       "       -0.19611287,  0.064424  ,  0.11835656,  0.06517876, -0.10907665,\n",
       "        0.02775248, -0.06966034,  0.05161316, -0.00509942,  0.02610457,\n",
       "       -0.02165228, -0.07894783,  0.05706049,  0.02305102, -0.08014485,\n",
       "        0.22982506, -0.09516134, -0.00195995, -0.05212987, -0.10273121,\n",
       "       -0.08041546,  0.04897661,  0.03315542, -0.02326958,  0.1052165 ,\n",
       "       -0.11830541, -0.03169212,  0.03952116, -0.12340844,  0.10725659,\n",
       "        0.08625586,  0.08291639,  0.11055885,  0.04388536, -0.05895904,\n",
       "       -0.02768142, -0.13496156, -0.13655935, -0.10573473, -0.03899273,\n",
       "       -0.05418871, -0.07987771, -0.11436221, -0.02675861,  0.2436887 ,\n",
       "        0.02814967,  0.06634986, -0.07372411, -0.03123233, -0.06560813,\n",
       "       -0.00734979, -0.14160113, -0.322902  , -0.09862041, -0.03675406,\n",
       "       -0.08772375,  0.09598603,  0.04080297, -0.06557938,  0.0835235 ,\n",
       "        0.15320675,  0.10358459, -0.13872778, -0.19885658, -0.03177711,\n",
       "        0.16318832,  0.02177862,  0.03824243,  0.05817297,  0.02819316,\n",
       "        0.16712116, -0.06244114, -0.07877449,  0.21264437, -0.10574513,\n",
       "        0.02048087, -0.1472453 ,  0.08793093, -0.02518998,  0.00725971],\n",
       "      dtype=float32)"
      ]
     },
     "execution_count": 7,
     "metadata": {},
     "output_type": "execute_result"
    }
   ],
   "source": [
    "wv['academic']"
   ]
  },
  {
   "cell_type": "markdown",
   "metadata": {},
   "source": [
    "Based on these vectors words can be compared to each other. The 10 most similar words to `academic` are:"
   ]
  },
  {
   "cell_type": "code",
   "execution_count": 8,
   "metadata": {},
   "outputs": [
    {
     "data": {
      "text/plain": [
       "[('professional', 0.5941072702407837),\n",
       " ('scientific', 0.5231539011001587),\n",
       " ('existent', 0.49167492985725403),\n",
       " ('academia', 0.4735167622566223),\n",
       " ('traditional', 0.4654197692871094),\n",
       " ('prospects', 0.4418567419052124),\n",
       " ('academics', 0.4371306896209717),\n",
       " ('educational', 0.4251668453216553),\n",
       " ('socioeconomic', 0.4145768880844116),\n",
       " ('advancement', 0.4130385220050812)]"
      ]
     },
     "execution_count": 8,
     "metadata": {},
     "output_type": "execute_result"
    }
   ],
   "source": [
    "wv.most_similar('academic')"
   ]
  },
  {
   "cell_type": "markdown",
   "metadata": {},
   "source": [
    "**Combining Word2Vec with multiword n-grams**\n",
    "\n",
    "Instead of only using unigrams it is possible to include bigrams into the vocabulary."
   ]
  },
  {
   "cell_type": "code",
   "execution_count": 9,
   "metadata": {},
   "outputs": [
    {
     "name": "stdout",
     "output_type": "stream",
     "text": [
      "[['kind', 'visa', 'required', 'work', 'academia', 'japan'], ['title'], ['kind', 'visa', 'class', 'apply', 'order', 'work', 'academic', 'japan']]\n"
     ]
    }
   ],
   "source": [
    "from academia_tag_recommender.embedded_data import Word2Tok\n",
    "sentences = Word2Tok(X_train, flat=False)\n",
    "\n",
    "print(list(sentences)[0:3])"
   ]
  },
  {
   "cell_type": "code",
   "execution_count": 10,
   "metadata": {},
   "outputs": [],
   "source": [
    "from gensim.models.phrases import Phrases\n",
    "\n",
    "bigram_transformer = Phrases(sentences, min_count=1)"
   ]
  },
  {
   "cell_type": "code",
   "execution_count": 11,
   "metadata": {},
   "outputs": [
    {
     "name": "stdout",
     "output_type": "stream",
     "text": [
      "Training the model on the documents results in 20473 words in the vocabulary.\n"
     ]
    }
   ],
   "source": [
    "from gensim.models import Word2Vec\n",
    "model = Word2Vec(sentences=bigram_transformer[sentences])\n",
    "wv = model.wv\n",
    "del model\n",
    "wv.init_sims(replace=True)\n",
    "print('Training the model on the documents results in {} words in the vocabulary.'.format(len(wv.vocab)))"
   ]
  },
  {
   "cell_type": "markdown",
   "metadata": {},
   "source": [
    "Including bigrams the vocabulary increases nearly by factor 2."
   ]
  },
  {
   "cell_type": "code",
   "execution_count": 12,
   "metadata": {},
   "outputs": [
    {
     "data": {
      "text/plain": [
       "array([ 0.0495455 , -0.00419593,  0.11066435, -0.02374866, -0.22952871,\n",
       "       -0.08000941,  0.02771649,  0.01024842, -0.08156473,  0.12846893,\n",
       "       -0.04128965, -0.07169883, -0.09920597, -0.13022473,  0.03891062,\n",
       "        0.00903767,  0.20555912, -0.0070736 ,  0.04888603,  0.05045787,\n",
       "       -0.1317934 ,  0.07066325, -0.02096056,  0.04510014,  0.0181801 ,\n",
       "        0.05664595, -0.11644613,  0.12939735, -0.00432711, -0.08152245,\n",
       "       -0.18457815, -0.2119369 ,  0.09498297, -0.07877592, -0.06825345,\n",
       "        0.14617655,  0.09528144,  0.05029193,  0.04541614,  0.04639877,\n",
       "       -0.01172495,  0.15301225, -0.07834055,  0.01008555, -0.13247669,\n",
       "       -0.13601477, -0.03733093, -0.15711571, -0.09747767,  0.02808852,\n",
       "        0.06926011,  0.02506783,  0.15970664,  0.03217129, -0.09766825,\n",
       "        0.00457934, -0.16741234,  0.00227875, -0.11511894, -0.14892387,\n",
       "       -0.04949791,  0.03258445, -0.13882124, -0.05990782, -0.04662485,\n",
       "        0.04948926,  0.02993926,  0.06069308, -0.00270678, -0.08960743,\n",
       "        0.03702236, -0.06492189, -0.264479  , -0.01479057, -0.01501088,\n",
       "       -0.09403778,  0.05410164,  0.04465082,  0.03237963, -0.01767264,\n",
       "        0.09501874, -0.02227877, -0.00557366, -0.17886344, -0.05634626,\n",
       "        0.1280604 ,  0.07206521,  0.15364966,  0.08677908, -0.2070396 ,\n",
       "        0.16780417, -0.20090015,  0.02797919,  0.08012588, -0.21000324,\n",
       "       -0.06253776, -0.06255399,  0.0057265 ,  0.05441238, -0.06955921],\n",
       "      dtype=float32)"
      ]
     },
     "execution_count": 12,
     "metadata": {},
     "output_type": "execute_result"
    }
   ],
   "source": [
    "wv['academic']"
   ]
  },
  {
   "cell_type": "code",
   "execution_count": 13,
   "metadata": {},
   "outputs": [
    {
     "data": {
      "text/plain": [
       "[('professional', 0.6862949728965759),\n",
       " ('non_academic', 0.6769979000091553),\n",
       " ('tt_faculty', 0.6094162464141846),\n",
       " ('terms', 0.6052592992782593),\n",
       " ('teaching_experience', 0.6019759774208069),\n",
       " ('early_career', 0.5860946774482727),\n",
       " ('blended', 0.5758219361305237),\n",
       " ('permanent', 0.5706329345703125),\n",
       " ('industrial', 0.5703277587890625),\n",
       " ('benefits', 0.5627210736274719)]"
      ]
     },
     "execution_count": 13,
     "metadata": {},
     "output_type": "execute_result"
    }
   ],
   "source": [
    "wv.most_similar('academic')"
   ]
  },
  {
   "cell_type": "markdown",
   "metadata": {},
   "source": [
    "Looking at the simililarity of words, there are now many bigrams that are similar to `academic`."
   ]
  },
  {
   "cell_type": "markdown",
   "metadata": {},
   "source": [
    "**Doc2Vec**"
   ]
  },
  {
   "cell_type": "markdown",
   "metadata": {},
   "source": [
    "The `Doc2Vec` trains the model supervised, using the labels. Therefore all documents first need to be tokenized and connected to their label."
   ]
  },
  {
   "cell_type": "code",
   "execution_count": 14,
   "metadata": {},
   "outputs": [
    {
     "data": {
      "text/plain": [
       "TaggedDocument(words=['kind', 'visa', 'required', 'work', 'academia', 'japan', 'title', 'kind', 'visa', 'class', 'apply', 'order', 'work', 'academic', 'japan'], tags=[0])"
      ]
     },
     "execution_count": 14,
     "metadata": {},
     "output_type": "execute_result"
    }
   ],
   "source": [
    "from academia_tag_recommender.embedded_data import Doc2Tagged\n",
    "\n",
    "tokens = Doc2Tagged(X_train, tag=True)\n",
    "\n",
    "token_list = list(tokens)\n",
    "token_list[0]"
   ]
  },
  {
   "cell_type": "code",
   "execution_count": 15,
   "metadata": {},
   "outputs": [
    {
     "name": "stdout",
     "output_type": "stream",
     "text": [
      "Training the model on the documents results in 12816 words out of 24812 documents in the vocabulary.\n"
     ]
    }
   ],
   "source": [
    "from gensim.models import Doc2Vec\n",
    "model = Doc2Vec()\n",
    "model.build_vocab(token_list)\n",
    "model.train(token_list, total_examples=model.corpus_count, epochs=model.epochs)\n",
    "print('Training the model on the documents results in {} words out of {} documents in the vocabulary.'.format(len(model.wv.vocab), len(model.docvecs)))"
   ]
  },
  {
   "cell_type": "code",
   "execution_count": 16,
   "metadata": {},
   "outputs": [
    {
     "data": {
      "text/plain": [
       "array([-0.01246654,  0.01008995,  0.01704104, -0.026956  ,  0.00418499,\n",
       "        0.03721834, -0.01852683,  0.00209496, -0.01860138,  0.03959585,\n",
       "        0.00507056,  0.02848887, -0.01308582, -0.01310561, -0.00747064,\n",
       "       -0.01693214,  0.00857303, -0.00355638,  0.02803446,  0.0198663 ,\n",
       "       -0.00133561,  0.01337443, -0.01685062,  0.00772604,  0.0478564 ,\n",
       "       -0.02584357,  0.02873253,  0.01621348, -0.00468331, -0.01382237,\n",
       "       -0.01595827, -0.05603697,  0.01256992,  0.00667518, -0.00173867,\n",
       "        0.01282012,  0.04187428,  0.00897409,  0.04029883, -0.03409013,\n",
       "        0.01656222, -0.05447659, -0.02043061,  0.01358684,  0.01051033,\n",
       "       -0.01498997,  0.004082  , -0.00109008, -0.01355278,  0.01846856,\n",
       "       -0.00381788, -0.03398077, -0.02348213, -0.02855602, -0.04648814,\n",
       "       -0.00220863, -0.06394363,  0.00079038, -0.05311364, -0.01619767,\n",
       "       -0.02317375, -0.02261864, -0.02486599,  0.02838418, -0.00781799,\n",
       "        0.05829245, -0.02244406,  0.00849184, -0.02140814,  0.00337147,\n",
       "        0.00714319,  0.02169389,  0.00339823,  0.04617785,  0.02293278,\n",
       "       -0.00399295,  0.00522254, -0.00233352,  0.02065075,  0.02539249,\n",
       "        0.05408763, -0.01602381,  0.00982474, -0.02108097,  0.03280303,\n",
       "        0.04794781,  0.0190305 ,  0.01020229,  0.01998249,  0.04462161,\n",
       "        0.03429331, -0.02405358,  0.00728971, -0.01934722, -0.00404227,\n",
       "       -0.02114316,  0.03611916,  0.01913803, -0.0295075 ,  0.01882382],\n",
       "      dtype=float32)"
      ]
     },
     "execution_count": 16,
     "metadata": {},
     "output_type": "execute_result"
    }
   ],
   "source": [
    "vector = model.infer_vector(['academic'])\n",
    "vector"
   ]
  },
  {
   "cell_type": "markdown",
   "metadata": {},
   "source": [
    "With the `Doc2Vec` model one can examine documents similar to the keyword `academic` instead of similar words."
   ]
  },
  {
   "cell_type": "code",
   "execution_count": 17,
   "metadata": {},
   "outputs": [
    {
     "name": "stdout",
     "output_type": "stream",
     "text": [
      "(17992, 0.8779444694519043) ['academic', 'prizes', 'awards', 'vs', 'academic', 'achievements', 'phd', 'scholarship', 'application', 'forms', 'mean', 'details', 'academic', 'prizes', 'awards', 'details', 'academic', 'achievements', 'academic', 'prizes', 'academic', 'achievements', 'things']\n",
      "(1594, 0.8731231093406677) ['academic', 'statement', 'purpose', 'vs', 'nsf', 'personal', 'statement', 'beyond', 'obvious', 'nsf', 'fellowship', 'personal', 'statement', 'good', 'nsf', 'academic', 'statement', 'purpose', 'graduate', 'school', 'application', 'grad', 'school', 'grad', 'school', 'different', 'similar', 'two', 'essays', 'already', 'written', 'nsf', 'fellowship', 'application', 'now', 'process', 'writing', 'academic', 'statement', 'purpose', 'grad', 'school', 'applications', 'trying', 'figure', 'similar', 'statements', 'going', 'end']\n"
     ]
    }
   ],
   "source": [
    "similar_docs = model.docvecs.most_similar([vector])\n",
    "print(similar_docs[0], token_list[similar_docs[0][0]].words)\n",
    "print(similar_docs[1], token_list[similar_docs[1][0]].words)"
   ]
  },
  {
   "cell_type": "code",
   "execution_count": 18,
   "metadata": {},
   "outputs": [
    {
     "data": {
      "text/plain": [
       "[('scientific', 0.5339624285697937),\n",
       " ('professional', 0.5270957946777344),\n",
       " ('academia', 0.45144784450531006),\n",
       " ('existent', 0.4350164830684662),\n",
       " ('traditional', 0.43040335178375244),\n",
       " ('academics', 0.4162779450416565),\n",
       " ('future', 0.4070352613925934),\n",
       " ('market', 0.3943069875240326),\n",
       " ('prospects', 0.38636696338653564),\n",
       " ('tt', 0.3860465884208679)]"
      ]
     },
     "execution_count": 18,
     "metadata": {},
     "output_type": "execute_result"
    }
   ],
   "source": [
    "wv = model.wv\n",
    "del model\n",
    "wv.init_sims(replace=True)\n",
    "wv.most_similar('academic')"
   ]
  },
  {
   "cell_type": "markdown",
   "metadata": {},
   "source": [
    "**FastText**"
   ]
  },
  {
   "cell_type": "code",
   "execution_count": 19,
   "metadata": {},
   "outputs": [
    {
     "name": "stdout",
     "output_type": "stream",
     "text": [
      "[['kind', 'visa', 'required', 'work', 'academia', 'japan'], ['title'], ['kind', 'visa', 'class', 'apply', 'order', 'work', 'academic', 'japan']]\n"
     ]
    }
   ],
   "source": [
    "from academia_tag_recommender.embedded_data import Word2Tok\n",
    "sentences = Word2Tok(X_train, flat=False)\n",
    "\n",
    "print(list(sentences)[0:3])"
   ]
  },
  {
   "cell_type": "code",
   "execution_count": 20,
   "metadata": {},
   "outputs": [
    {
     "name": "stdout",
     "output_type": "stream",
     "text": [
      "Training the model on the documents results in 22164 words in the vocabulary.\n"
     ]
    }
   ],
   "source": [
    "from gensim.models import FastText\n",
    "model = FastText(window=3, min_count=2)\n",
    "model.build_vocab(sentences=sentences)\n",
    "model.train(sentences=sentences, total_examples=model.corpus_count, epochs=20)\n",
    "wv = model.wv\n",
    "del model\n",
    "wv.init_sims(replace=True)\n",
    "print('Training the model on the documents results in {} words in the vocabulary.'.format(len(wv.vocab)))"
   ]
  },
  {
   "cell_type": "code",
   "execution_count": 21,
   "metadata": {},
   "outputs": [
    {
     "data": {
      "text/plain": [
       "array([-0.01360371,  0.2201108 , -0.07534797, -0.02042685,  0.06911746,\n",
       "       -0.08047682,  0.00112343, -0.00682863, -0.00313658, -0.06221205,\n",
       "        0.11683771,  0.09753276, -0.11210427,  0.02122977, -0.08609265,\n",
       "       -0.00085879,  0.0962998 , -0.16790262,  0.01899188,  0.0365886 ,\n",
       "       -0.01357992,  0.0850454 , -0.12691697, -0.12235729, -0.22409484,\n",
       "       -0.0094045 , -0.06140542,  0.09440521,  0.00361523,  0.24553874,\n",
       "       -0.03838311, -0.08878055, -0.14826025, -0.15915938, -0.1602885 ,\n",
       "       -0.03411989, -0.10631298, -0.14225276,  0.04898833,  0.02420743,\n",
       "        0.06041806, -0.10884795, -0.02548579,  0.1116297 , -0.01417138,\n",
       "        0.07347418,  0.03819118,  0.05620288,  0.05335264, -0.00278359,\n",
       "        0.00099527, -0.05098832, -0.05446682,  0.25842884,  0.00167618,\n",
       "        0.03151484, -0.05252331, -0.01290049,  0.05672811,  0.14226958,\n",
       "       -0.03228727, -0.13016078,  0.19038355,  0.01075957, -0.09900304,\n",
       "       -0.08866976, -0.10331886,  0.0975347 , -0.02733367,  0.11355392,\n",
       "        0.03785679, -0.01972856, -0.06811561,  0.08854643,  0.21273215,\n",
       "       -0.09345597, -0.13176113, -0.07132535, -0.01233202, -0.0842082 ,\n",
       "        0.06506078,  0.00359363, -0.10724541,  0.06885739,  0.17367978,\n",
       "       -0.04019253,  0.04813964, -0.13957635, -0.10003036, -0.1768922 ,\n",
       "        0.13029338,  0.10327885, -0.1634009 ,  0.09634252, -0.14732964,\n",
       "       -0.00701814,  0.05050712, -0.08246719, -0.1049214 , -0.03396854],\n",
       "      dtype=float32)"
      ]
     },
     "execution_count": 21,
     "metadata": {},
     "output_type": "execute_result"
    }
   ],
   "source": [
    "wv['academic']"
   ]
  },
  {
   "cell_type": "code",
   "execution_count": 22,
   "metadata": {},
   "outputs": [
    {
     "data": {
      "text/plain": [
       "[('nonacademic', 0.937012791633606),\n",
       " ('unacademic', 0.9337728023529053),\n",
       " ('academica', 0.9190360307693481),\n",
       " ('academico', 0.9158546924591064),\n",
       " ('academical', 0.8972895741462708),\n",
       " ('academy', 0.8572608232498169),\n",
       " ('academe', 0.8453583717346191),\n",
       " ('academies', 0.8380265831947327),\n",
       " ('academician', 0.8120579719543457),\n",
       " ('acad', 0.8003551959991455)]"
      ]
     },
     "execution_count": 22,
     "metadata": {},
     "output_type": "execute_result"
    }
   ],
   "source": [
    "wv.most_similar('academic')"
   ]
  },
  {
   "cell_type": "markdown",
   "metadata": {},
   "source": [
    "Since `FastText` uses character n-grams there are now many words very close to `academia`."
   ]
  },
  {
   "cell_type": "markdown",
   "metadata": {},
   "source": [
    "**Combining FastText with multiword n-grams**\n",
    "\n",
    "`FastText` can be extended with bigrams too."
   ]
  },
  {
   "cell_type": "code",
   "execution_count": 23,
   "metadata": {},
   "outputs": [
    {
     "name": "stdout",
     "output_type": "stream",
     "text": [
      "[['kind', 'visa', 'required', 'work', 'academia', 'japan'], ['title'], ['kind', 'visa', 'class', 'apply', 'order', 'work', 'academic', 'japan']]\n"
     ]
    }
   ],
   "source": [
    "from academia_tag_recommender.embedded_data import Word2Tok\n",
    "sentences = Word2Tok(X_train, flat=False)\n",
    "\n",
    "print(list(sentences)[0:3])"
   ]
  },
  {
   "cell_type": "code",
   "execution_count": 24,
   "metadata": {},
   "outputs": [],
   "source": [
    "from gensim.models.phrases import Phrases\n",
    "\n",
    "bigram_transformer = Phrases(sentences, min_count=1)"
   ]
  },
  {
   "cell_type": "code",
   "execution_count": 25,
   "metadata": {},
   "outputs": [
    {
     "name": "stdout",
     "output_type": "stream",
     "text": [
      "Training the model on the documents results in 55899 words in the vocabulary.\n"
     ]
    }
   ],
   "source": [
    "from gensim.models import FastText\n",
    "model = FastText(window=3, min_count=2)\n",
    "model.build_vocab(sentences=bigram_transformer[sentences])\n",
    "model.train(sentences=sentences, total_examples=model.corpus_count, epochs=20)\n",
    "wv = model.wv\n",
    "del model\n",
    "wv.init_sims(replace=True)\n",
    "print('Training the model on the documents results in {} words in the vocabulary.'.format(len(wv.vocab)))"
   ]
  },
  {
   "cell_type": "code",
   "execution_count": 26,
   "metadata": {},
   "outputs": [
    {
     "data": {
      "text/plain": [
       "array([-5.03340252e-02, -1.59247424e-02, -4.10016216e-02,  7.63774291e-02,\n",
       "        4.06169519e-03, -1.35998011e-01, -7.71520957e-02, -6.16722852e-02,\n",
       "       -2.27796678e-02,  1.22583494e-01, -1.33953750e-01, -1.96712557e-02,\n",
       "       -4.90332432e-02,  1.07224926e-01,  1.46762058e-01, -5.59856370e-02,\n",
       "       -5.77349355e-03, -2.17589810e-02, -1.48361757e-01,  5.79931699e-02,\n",
       "        4.38637054e-03,  9.82263684e-02, -1.17381424e-01,  1.74733922e-01,\n",
       "       -6.09970503e-02, -4.47782464e-02,  2.15554163e-01, -4.36310768e-02,\n",
       "       -5.42981327e-02,  3.17662358e-02,  8.23094696e-03,  3.18498164e-02,\n",
       "        7.35429674e-02, -5.03120981e-02, -5.03785610e-02, -2.83606231e-01,\n",
       "        6.30341917e-02,  1.89638585e-01,  1.05324514e-01, -9.09575373e-02,\n",
       "       -1.92452475e-01,  5.21142855e-02,  2.62836479e-02, -2.74904091e-02,\n",
       "       -1.62085980e-01,  8.32487047e-02,  1.52187854e-01, -6.84334561e-02,\n",
       "       -1.04442351e-01, -1.52494133e-01, -4.32568304e-02,  4.41923924e-03,\n",
       "       -1.05814986e-01, -6.76285625e-02, -1.55632850e-03,  4.25156206e-02,\n",
       "       -7.65070915e-02,  7.88155757e-03, -2.53099657e-04, -1.26483321e-01,\n",
       "       -2.28695527e-01,  5.20079657e-02, -4.92969863e-02, -1.50625944e-01,\n",
       "        1.74248386e-02,  1.80383660e-02, -9.12426114e-02, -3.59649509e-02,\n",
       "        9.55174938e-02, -6.78027794e-02, -3.91982980e-02,  1.46082073e-01,\n",
       "        2.55437940e-01,  3.16894539e-02, -1.65548593e-01, -7.83437416e-02,\n",
       "       -5.74947782e-02, -2.89581958e-02,  2.36249249e-02, -7.68286223e-03,\n",
       "       -4.15413529e-02,  1.87040880e-01, -1.95169635e-02, -1.18918329e-01,\n",
       "       -1.88450254e-02, -6.55799285e-02, -6.42630970e-03, -1.65755391e-01,\n",
       "        9.77083519e-02,  8.91421828e-03,  1.46499559e-01,  3.65467593e-02,\n",
       "       -6.20752163e-02, -6.97888508e-02,  1.09762855e-01, -4.95609362e-03,\n",
       "       -3.05800047e-02, -1.22170951e-02,  2.27073595e-01, -3.43600400e-02],\n",
       "      dtype=float32)"
      ]
     },
     "execution_count": 26,
     "metadata": {},
     "output_type": "execute_result"
    }
   ],
   "source": [
    "wv['academic']"
   ]
  },
  {
   "cell_type": "code",
   "execution_count": 27,
   "metadata": {},
   "outputs": [
    {
     "data": {
      "text/plain": [
       "[('vp_academic', 0.991126537322998),\n",
       " ('climb_academic', 0.9646323919296265),\n",
       " ('non_academic', 0.960191011428833),\n",
       " ('climbs_academic', 0.9601061940193176),\n",
       " ('wear_academic', 0.9575188755989075),\n",
       " ('academic_cvs', 0.9546220898628235),\n",
       " ('nonacademic', 0.9523471593856812),\n",
       " ('unacademic', 0.9492830038070679),\n",
       " ('academic_theft', 0.9459648132324219),\n",
       " ('academica', 0.9448950886726379)]"
      ]
     },
     "execution_count": 27,
     "metadata": {},
     "output_type": "execute_result"
    }
   ],
   "source": [
    "wv.most_similar('academic')"
   ]
  },
  {
   "cell_type": "markdown",
   "metadata": {},
   "source": [
    "Similar words to `academic` are now bigrams like `non academic` and unigrams like `nonacademic`."
   ]
  },
  {
   "cell_type": "code",
   "execution_count": null,
   "metadata": {},
   "outputs": [],
   "source": []
  }
 ],
 "metadata": {
  "kernelspec": {
   "display_name": "Python 3",
   "language": "python",
   "name": "python3"
  },
  "language_info": {
   "codemirror_mode": {
    "name": "ipython",
    "version": 3
   },
   "file_extension": ".py",
   "mimetype": "text/x-python",
   "name": "python",
   "nbconvert_exporter": "python",
   "pygments_lexer": "ipython3",
   "version": "3.8.3"
  }
 },
 "nbformat": 4,
 "nbformat_minor": 4
}
