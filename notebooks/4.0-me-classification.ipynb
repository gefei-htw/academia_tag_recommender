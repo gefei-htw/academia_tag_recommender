{
 "cells": [
  {
   "cell_type": "markdown",
   "metadata": {},
   "source": [
    "# Classfication\n",
    "\n",
    "This notebook evaluates methods for classification using the [academia.stackexchange.com](https://academia.stackexchange.com/) data dump.\n",
    "\n",
    "## Table of Contents\n",
    "* [Data import](#data_import)\n",
    "* [Classfication methods](#methods)"
   ]
  },
  {
   "cell_type": "code",
   "execution_count": 1,
   "metadata": {},
   "outputs": [],
   "source": [
    "%load_ext autoreload\n",
    "%autoreload 2\n",
    "\n",
    "import matplotlib.pyplot as plt\n",
    "import numpy as np\n",
    "import time\n",
    "from joblib import dump, load\n",
    "from academia_tag_recommender.definitions import MODELS_PATH"
   ]
  },
  {
   "cell_type": "markdown",
   "metadata": {},
   "source": [
    "<a id='data_import'/>"
   ]
  },
  {
   "cell_type": "markdown",
   "metadata": {},
   "source": [
    "## Data import"
   ]
  },
  {
   "cell_type": "code",
   "execution_count": null,
   "metadata": {},
   "outputs": [],
   "source": [
    "from sklearn.feature_extraction.text import CountVectorizer, TfidfVectorizer\n",
    "from academia_tag_recommender.preprocessor import BasicPreprocessor\n",
    "from academia_tag_recommender.tokenizer import BasicTokenizer, EnglishStemmer, PorterStemmer, LancasterStemmer, Lemmatizer\n",
    "from academia_tag_recommender.vectorizer_computation import get_vect_feat_with_params\n",
    "from academia_tag_recommender.documents import documents as get_documents\n",
    "\n",
    "documents = get_documents()\n",
    "texts = [document.text for document in documents]\n",
    "\n",
    "[vectorizer, features] = get_vect_feat_with_params(texts, TfidfVectorizer, BasicTokenizer, BasicPreprocessor, None, (1, 1))"
   ]
  },
  {
   "cell_type": "markdown",
   "metadata": {},
   "source": [
    "## Data Preparation"
   ]
  },
  {
   "cell_type": "code",
   "execution_count": null,
   "metadata": {},
   "outputs": [],
   "source": [
    "from sklearn.preprocessing import MultiLabelBinarizer\n",
    "\n",
    "label = [document.tags for document in documents]\n",
    "\n",
    "X = features\n",
    "print('X data with shape {}'.format(X.shape))\n",
    "\n",
    "y = MultiLabelBinarizer().fit_transform(label)\n",
    "print('Y data with shape {}'.format(y.shape))"
   ]
  },
  {
   "cell_type": "code",
   "execution_count": null,
   "metadata": {},
   "outputs": [],
   "source": [
    "from sklearn.model_selection import train_test_split\n",
    "\n",
    "y_one_label = y[:,1]\n",
    "X_train, X_test, y_train, y_test = train_test_split(X, y_one_label, test_size=0.5, random_state=0)"
   ]
  },
  {
   "cell_type": "code",
   "execution_count": null,
   "metadata": {},
   "outputs": [],
   "source": [
    "from sklearn.multioutput import MultiOutputClassifier\n",
    "\n",
    "X_train_multi, X_test_multi, y_train_multi, y_test_multi = train_test_split(X, y, test_size=0.5, random_state=0)\n",
    "\n",
    "multi = False"
   ]
  },
  {
   "cell_type": "markdown",
   "metadata": {},
   "source": [
    "<a id='methods'/>"
   ]
  },
  {
   "cell_type": "markdown",
   "metadata": {},
   "source": [
    "## Classification methods\n",
    "\n",
    "Probabilistic algorithms (high dimensionality, data sparsity)\n",
    "- Naive Bayes (NB), [Explanation](https://scikit-learn.org/stable/modules/naive_bayes.html)\n",
    "- [Logistic Regression](https://scikit-learn.org/stable/modules/generated/sklearn.linear_model.LogisticRegression.html#sklearn.linear_model.LogisticRegression), [Explanation](https://scikit-learn.org/stable/modules/linear_model.html#logistic-regression)\n",
    "- Linear Classifier (LLSF: Linear Least Squares Fit), [Explanation](https://scikit-learn.org/stable/modules/linear_model.html#ordinary-least-squares)\n",
    "\n",
    "\n",
    "Geometric algorithms\n",
    "- [k-Nearest Neighbor (kNN)](https://scikit-learn.org/stable/modules/generated/sklearn.neighbors.KNeighborsClassifier.html#sklearn.neighbors.KNeighborsClassifier), [Explanation](https://scikit-learn.org/stable/modules/neighbors.html#nearest-neighbors-classification)\n",
    "- [Support Vector Machine (SVM)](https://scikit-learn.org/stable/modules/generated/sklearn.svm.SVC.html#sklearn.svm.SVC), [Explanation](https://scikit-learn.org/stable/modules/svm.html)\n",
    "\n",
    "\n",
    "- [Neural Network (NN)](https://scikit-learn.org/stable/modules/generated/sklearn.neural_network.MLPClassifier.html#sklearn.neural_network.MLPClassifier), [Explanation](https://scikit-learn.org/stable/modules/neural_networks_supervised.html)\n"
   ]
  },
  {
   "cell_type": "code",
   "execution_count": null,
   "metadata": {},
   "outputs": [],
   "source": [
    "from sklearn.metrics import mean_squared_error\n",
    "\n",
    "results=[]\n",
    "def test_classifier(name, clf, X_train, y_train, X_test, y_test, use_score=True):\n",
    "    start = time.time()\n",
    "    clf_fit = clf.fit(X_train, y_train)\n",
    "    if use_score:\n",
    "        score_orig = clf_fit.score(X_train, y_train)\n",
    "        score_pred = clf.score(X_test, y_test)\n",
    "    else:\n",
    "        pred_train = clf_fit.predict(X_train)\n",
    "        pred_test = clf_fit.predict(X_test)\n",
    "        score_orig = mean_squared_error(y_train, pred_train)\n",
    "        score_pred = mean_squared_error(y_test, pred_test)\n",
    "    end = time.time()\n",
    "    process_time = end - start\n",
    "    results.append([name, score_orig, score_pred, process_time])"
   ]
  },
  {
   "cell_type": "code",
   "execution_count": null,
   "metadata": {},
   "outputs": [],
   "source": [
    "X_train_one_feat = X_train[:,1].toarray()\n",
    "X_test_one_feat = X_test[:,1].toarray()\n",
    "\n",
    "def plot_decision(clf):\n",
    "    clf_fit = clf.fit(X_train_one_feat, y_train)\n",
    "    y_pred = clf_fit.predict(X_test_one_feat)\n",
    "    \n",
    "    plt.scatter(X_test_one_feat, y_test,  color='black')\n",
    "    plt.plot(X_test_one_feat, y_pred, color='blue', linewidth=3)\n",
    "    plt.xticks(())\n",
    "    plt.yticks(())\n",
    "    plt.show()"
   ]
  },
  {
   "cell_type": "markdown",
   "metadata": {},
   "source": [
    "**Naive Bayes**\n",
    "\n",
    "- [Gaussian Naive Bayes](https://scikit-learn.org/stable/modules/generated/sklearn.naive_bayes.GaussianNB.html#sklearn.naive_bayes.GaussianNB)\n",
    "- [Multinomial Naive Bayes](https://scikit-learn.org/stable/modules/generated/sklearn.naive_bayes.MultinomialNB.html#sklearn.naive_bayes.MultinomialNB)\n",
    "- [Complement Naive Bayes](https://scikit-learn.org/stable/modules/generated/sklearn.naive_bayes.ComplementNB.html#sklearn.naive_bayes.ComplementNB)\n",
    "- [Categorical Naive Bayes](https://scikit-learn.org/stable/modules/generated/sklearn.naive_bayes.CategoricalNB.html#sklearn.naive_bayes.CategoricalNB)"
   ]
  },
  {
   "cell_type": "code",
   "execution_count": null,
   "metadata": {},
   "outputs": [],
   "source": [
    "from sklearn.naive_bayes import GaussianNB, MultinomialNB, ComplementNB, CategoricalNB"
   ]
  },
  {
   "cell_type": "markdown",
   "metadata": {},
   "source": [
    "*Gaussian Naive Bayes*"
   ]
  },
  {
   "cell_type": "code",
   "execution_count": null,
   "metadata": {},
   "outputs": [],
   "source": [
    "test_classifier('Gaussian Naive Bayes', \n",
    "                GaussianNB(),\n",
    "                X_train.toarray(), y_train,\n",
    "                X_test.toarray(), y_test)"
   ]
  },
  {
   "cell_type": "markdown",
   "metadata": {},
   "source": [
    "*Multinomial Naive Bayes*"
   ]
  },
  {
   "cell_type": "code",
   "execution_count": null,
   "metadata": {},
   "outputs": [],
   "source": [
    "test_classifier('Multinomial Naive Bayes', \n",
    "                MultinomialNB(), \n",
    "                X_train.toarray(), y_train, \n",
    "                X_test.toarray(), y_test)"
   ]
  },
  {
   "cell_type": "markdown",
   "metadata": {},
   "source": [
    "*Complement Naive Bayes*"
   ]
  },
  {
   "cell_type": "code",
   "execution_count": null,
   "metadata": {},
   "outputs": [],
   "source": [
    "test_classifier('Complement Naive Bayes', \n",
    "                ComplementNB(), \n",
    "                X_train.toarray(), y_train, \n",
    "                X_test.toarray(), y_test)"
   ]
  },
  {
   "cell_type": "markdown",
   "metadata": {},
   "source": [
    "*Categorical Naive Bayes*"
   ]
  },
  {
   "cell_type": "code",
   "execution_count": null,
   "metadata": {},
   "outputs": [],
   "source": [
    "test_classifier('Categorical Naive Bayes', \n",
    "                CategoricalNB(), \n",
    "                X_train.toarray(), y_train,\n",
    "                X_test.toarray(), y_test)"
   ]
  },
  {
   "cell_type": "markdown",
   "metadata": {},
   "source": [
    "*Multioutput - Multinomial Naive Bayes*"
   ]
  },
  {
   "cell_type": "code",
   "execution_count": null,
   "metadata": {},
   "outputs": [],
   "source": [
    "if multi:\n",
    "    test_classifier('Multioutput - Multinomial Naive Bayes', \n",
    "                    MultiOutputClassifier(MultinomialNB()), \n",
    "                    X_train_multi.toarray(), y_train_multi, \n",
    "                    X_test_multi.toarray(), y_test_multi)"
   ]
  },
  {
   "cell_type": "markdown",
   "metadata": {},
   "source": [
    "**Logistic Regression**"
   ]
  },
  {
   "cell_type": "code",
   "execution_count": null,
   "metadata": {},
   "outputs": [],
   "source": [
    "from sklearn.linear_model import LogisticRegression"
   ]
  },
  {
   "cell_type": "code",
   "execution_count": null,
   "metadata": {},
   "outputs": [],
   "source": [
    "test_classifier('Logistic Regression', \n",
    "                LogisticRegression(random_state=0), \n",
    "                X_train, y_train, \n",
    "                X_test, y_test)"
   ]
  },
  {
   "cell_type": "code",
   "execution_count": null,
   "metadata": {},
   "outputs": [],
   "source": [
    "plot_decision(LogisticRegression(random_state=0))"
   ]
  },
  {
   "cell_type": "markdown",
   "metadata": {},
   "source": [
    "*Multioutput - Logistic Regression*"
   ]
  },
  {
   "cell_type": "code",
   "execution_count": null,
   "metadata": {},
   "outputs": [],
   "source": [
    "if multi:\n",
    "    test_classifier('Multioutput - Logistic Regression', \n",
    "                    MultiOutputClassifier(LogisticRegression(random_state=0)), \n",
    "                    X_train_multi.toarray(), y_train_multi, \n",
    "                    X_test_multi.toarray(), y_test_multi)"
   ]
  },
  {
   "cell_type": "markdown",
   "metadata": {},
   "source": [
    "**Liner Regression**\n",
    "\n",
    "- [Ordinary Least Squares](https://scikit-learn.org/stable/modules/generated/sklearn.linear_model.LinearRegression.html#sklearn.linear_model.LinearRegression)\n",
    "- [Non Negative Least Squares](https://scikit-learn.org/stable/modules/generated/sklearn.linear_model.LinearRegression.html#sklearn.linear_model.LinearRegression)\n",
    "- [Ridge Regression](https://scikit-learn.org/stable/modules/generated/sklearn.linear_model.RidgeClassifier.html#sklearn.linear_model.RidgeClassifier)\n",
    "- [Lasso](https://scikit-learn.org/stable/modules/generated/sklearn.linear_model.MultiTaskLasso.html#sklearn.linear_model.MultiTaskLasso)\n",
    "- [Elastic Net](https://scikit-learn.org/stable/modules/generated/sklearn.linear_model.MultiTaskElasticNet.html#sklearn.linear_model.MultiTaskElasticNet)"
   ]
  },
  {
   "cell_type": "code",
   "execution_count": null,
   "metadata": {},
   "outputs": [],
   "source": [
    "from sklearn.linear_model import LinearRegression, RidgeClassifier, MultiTaskLasso, Lasso, MultiTaskElasticNet, ElasticNet"
   ]
  },
  {
   "cell_type": "markdown",
   "metadata": {},
   "source": [
    "*Ordinary Least Squares*"
   ]
  },
  {
   "cell_type": "code",
   "execution_count": null,
   "metadata": {},
   "outputs": [],
   "source": [
    "test_classifier('Ordinary Least Squares', \n",
    "                LinearRegression(),\n",
    "                X_train, y_train, \n",
    "                X_test, y_test,\n",
    "                False)"
   ]
  },
  {
   "cell_type": "code",
   "execution_count": null,
   "metadata": {},
   "outputs": [],
   "source": [
    "plot_decision(LinearRegression())"
   ]
  },
  {
   "cell_type": "markdown",
   "metadata": {},
   "source": [
    "*Non Negative Least Squares*"
   ]
  },
  {
   "cell_type": "code",
   "execution_count": null,
   "metadata": {},
   "outputs": [],
   "source": [
    "test_classifier('Non Negative Least Squares', \n",
    "                LinearRegression(positive=True),\n",
    "                X_train.toarray(), y_train, \n",
    "                X_test.toarray(), y_test,\n",
    "                False)"
   ]
  },
  {
   "cell_type": "markdown",
   "metadata": {},
   "source": [
    "*Ridge Regression*"
   ]
  },
  {
   "cell_type": "code",
   "execution_count": null,
   "metadata": {},
   "outputs": [],
   "source": [
    "test_classifier('Ridge Classifier',\n",
    "                RidgeClassifier(),\n",
    "                X_train.toarray(), y_train, \n",
    "                X_test.toarray(), y_test)"
   ]
  },
  {
   "cell_type": "code",
   "execution_count": null,
   "metadata": {},
   "outputs": [],
   "source": [
    "plot_decision(RidgeClassifier())"
   ]
  },
  {
   "cell_type": "markdown",
   "metadata": {},
   "source": [
    "*Lasso*"
   ]
  },
  {
   "cell_type": "code",
   "execution_count": null,
   "metadata": {},
   "outputs": [],
   "source": [
    "test_classifier('Lasso',\n",
    "                Lasso(),\n",
    "                X_train.toarray(), y_train, \n",
    "                X_test.toarray(), y_test,\n",
    "                False)"
   ]
  },
  {
   "cell_type": "code",
   "execution_count": null,
   "metadata": {},
   "outputs": [],
   "source": [
    "if multi:\n",
    "    test_classifier('Multioutput - Lasso', \n",
    "                    MultiTaskLasso(alpha=0.1),\n",
    "                    X_train_multi.toarray(), y_train_multi, \n",
    "                    X_test_multi.toarray(), y_test_multi,\n",
    "                    False)"
   ]
  },
  {
   "cell_type": "code",
   "execution_count": null,
   "metadata": {},
   "outputs": [],
   "source": [
    "plot_decision(Lasso(alpha=0.1))"
   ]
  },
  {
   "cell_type": "markdown",
   "metadata": {},
   "source": [
    "*Elastic Net*"
   ]
  },
  {
   "cell_type": "code",
   "execution_count": null,
   "metadata": {},
   "outputs": [],
   "source": [
    "test_classifier('Elastic Net',\n",
    "                ElasticNet(alpha=0.1),\n",
    "                X_train.toarray(), y_train, \n",
    "                X_test.toarray(), y_test,\n",
    "                False)"
   ]
  },
  {
   "cell_type": "code",
   "execution_count": null,
   "metadata": {},
   "outputs": [],
   "source": [
    "if multi:\n",
    "    test_classifier('Multioutput - Elastic Net', \n",
    "                    MultiTaskElasticNet(alpha=0.1),\n",
    "                    X_train_multi.toarray(), y_train_multi, \n",
    "                    X_test_multi.toarray(), y_test_multi,\n",
    "                    False)"
   ]
  },
  {
   "cell_type": "code",
   "execution_count": null,
   "metadata": {},
   "outputs": [],
   "source": [
    "plot_decision(ElasticNet(alpha=0.1))"
   ]
  },
  {
   "cell_type": "markdown",
   "metadata": {},
   "source": [
    "**k-Nearest Neighbors**"
   ]
  },
  {
   "cell_type": "code",
   "execution_count": null,
   "metadata": {},
   "outputs": [],
   "source": [
    "from sklearn.neighbors import KNeighborsClassifier"
   ]
  },
  {
   "cell_type": "code",
   "execution_count": null,
   "metadata": {},
   "outputs": [],
   "source": [
    "test_classifier('k-Nearest Neighbors',\n",
    "                KNeighborsClassifier(),\n",
    "                X_train.toarray(), y_train, \n",
    "                X_test.toarray(), y_test)"
   ]
  },
  {
   "cell_type": "markdown",
   "metadata": {},
   "source": [
    "*Multiclass k_Nearest Neighbors*"
   ]
  },
  {
   "cell_type": "code",
   "execution_count": null,
   "metadata": {},
   "outputs": [],
   "source": [
    "if multi:\n",
    "    test_classifier('Multioutput - k-Nearest Neighbors', \n",
    "                    MultiOutputClassifier(KNeighborsClassifier()),\n",
    "                    X_train_multi.toarray(), y_train_multi, \n",
    "                    X_test_multi.toarray(), y_test_multi)"
   ]
  },
  {
   "cell_type": "markdown",
   "metadata": {},
   "source": [
    "**Support Vector Machines**\n",
    "\n",
    "- [SVC](https://scikit-learn.org/stable/modules/generated/sklearn.svm.SVC.html#sklearn.svm.SVC)\n",
    "- [NuSVC](https://scikit-learn.org/stable/modules/generated/sklearn.svm.NuSVC.html#sklearn.svm.NuSVC)\n",
    "- [Linear SVC](https://scikit-learn.org/stable/modules/generated/sklearn.svm.LinearSVC.html#sklearn.svm.LinearSVC)"
   ]
  },
  {
   "cell_type": "code",
   "execution_count": null,
   "metadata": {},
   "outputs": [],
   "source": [
    "from sklearn.svm import SVC, NuSVC, LinearSVC"
   ]
  },
  {
   "cell_type": "markdown",
   "metadata": {},
   "source": [
    "*SVC*"
   ]
  },
  {
   "cell_type": "code",
   "execution_count": null,
   "metadata": {},
   "outputs": [],
   "source": [
    "test_classifier('SVC',\n",
    "                SVC(),\n",
    "                X_train, y_train, \n",
    "                X_test, y_test)"
   ]
  },
  {
   "cell_type": "markdown",
   "metadata": {},
   "source": [
    "*NuSVC*"
   ]
  },
  {
   "cell_type": "code",
   "execution_count": null,
   "metadata": {},
   "outputs": [],
   "source": [
    "#test_classifier('NuSVC',\n",
    "#                NuSVC(),\n",
    "#                X_train, y_train, \n",
    "#                X_test, y_test)"
   ]
  },
  {
   "cell_type": "markdown",
   "metadata": {},
   "source": [
    "*Linear SVC*"
   ]
  },
  {
   "cell_type": "code",
   "execution_count": null,
   "metadata": {},
   "outputs": [],
   "source": [
    "test_classifier('Linear SVC',\n",
    "                LinearSVC(),\n",
    "                X_train, y_train, \n",
    "                X_test, y_test)"
   ]
  },
  {
   "cell_type": "code",
   "execution_count": null,
   "metadata": {},
   "outputs": [],
   "source": [
    "if multi:\n",
    "    test_classifier('Multioutput - Linear SVC', \n",
    "                    MultiOutputClassifier(LinearSVC()),\n",
    "                    X_train_multi, y_train_multi,\n",
    "                    X_test_multi, y_test_multi)"
   ]
  },
  {
   "cell_type": "markdown",
   "metadata": {},
   "source": [
    "**Neural Networks**"
   ]
  },
  {
   "cell_type": "code",
   "execution_count": null,
   "metadata": {},
   "outputs": [],
   "source": [
    "from sklearn.neural_network import MLPClassifier"
   ]
  },
  {
   "cell_type": "code",
   "execution_count": null,
   "metadata": {},
   "outputs": [],
   "source": [
    "test_classifier('Neural Network',\n",
    "                MLPClassifier(random_state=1),\n",
    "                X_train, y_train,\n",
    "                X_test, y_test)"
   ]
  },
  {
   "cell_type": "code",
   "execution_count": null,
   "metadata": {},
   "outputs": [],
   "source": [
    "if multi:\n",
    "    test_classifier('Multioutput - Neural Network', \n",
    "                    MultiOutputClassifier(MLPClassifier(random_state=1)), \n",
    "                    X_train_multi, y_train_multi, \n",
    "                    X_test_multi, y_test_multi)"
   ]
  },
  {
   "cell_type": "code",
   "execution_count": null,
   "metadata": {},
   "outputs": [],
   "source": [
    "print('{:<30}{:<25}{:<25}{:<25}'.format(\"Classifier\", \"Train Score\", \"Test Score\", \"Time\"))\n",
    "for result in results:\n",
    "    [name, score_orig, score_pred, process_time] = result\n",
    "    print('{:<30}{:<25}{:<25}{:<25}'.format(name, score_orig, score_pred, process_time))"
   ]
  },
  {
   "cell_type": "code",
   "execution_count": null,
   "metadata": {},
   "outputs": [],
   "source": [
    "indices = np.arange(len(results))\n",
    "\n",
    "results_ = [[x[i] for x in results] for i in range(4)]\n",
    "\n",
    "clf_names, score_orig, score_pred, proc_time = results_\n",
    "proc_time = np.array(proc_time) / np.max(proc_time)\n",
    "score_pred = [score if score > 0 else 0 for score in score_pred]\n",
    "\n",
    "plt.figure(figsize=(12, 8))\n",
    "plt.title(\"Score\")\n",
    "plt.barh(indices, score_orig, .2, label=\"score train\", color='navy')\n",
    "plt.barh(indices + .3, score_pred, .2, label=\"score test\", color='darkorange')\n",
    "plt.barh(indices + .6, proc_time, .2, label=\"training time\",\n",
    "         color='c')\n",
    "plt.yticks(())\n",
    "plt.legend(loc='best')\n",
    "plt.subplots_adjust(left=.25)\n",
    "plt.subplots_adjust(top=.95)\n",
    "plt.subplots_adjust(bottom=.05)\n",
    "\n",
    "for i, c in zip(indices, clf_names):\n",
    "    plt.text(-.3, i, c)\n",
    "\n",
    "plt.show()"
   ]
  },
  {
   "cell_type": "code",
   "execution_count": null,
   "metadata": {},
   "outputs": [],
   "source": []
  }
 ],
 "metadata": {
  "kernelspec": {
   "display_name": "Python 3",
   "language": "python",
   "name": "python3"
  },
  "language_info": {
   "codemirror_mode": {
    "name": "ipython",
    "version": 3
   },
   "file_extension": ".py",
   "mimetype": "text/x-python",
   "name": "python",
   "nbconvert_exporter": "python",
   "pygments_lexer": "ipython3",
   "version": "3.8.3"
  }
 },
 "nbformat": 4,
 "nbformat_minor": 4
}
