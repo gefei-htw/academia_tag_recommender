{
 "cells": [
  {
   "cell_type": "markdown",
   "metadata": {},
   "source": [
    "# Classfication\n",
    "\n",
    "This notebook evaluates methods for classification using the [academia.stackexchange.com](https://academia.stackexchange.com/) data dump.\n",
    "\n",
    "## Table of Contents\n",
    "* [Data import](#data_import)\n",
    "* [Classfication methods for the binary case](#classification_binary)\n",
    "* [Classfication methods for the multi-label case](#classification_multi)"
   ]
  },
  {
   "cell_type": "code",
   "execution_count": 1,
   "metadata": {},
   "outputs": [],
   "source": [
    "%load_ext autoreload\n",
    "%autoreload 2\n",
    "\n",
    "import matplotlib.pyplot as plt\n",
    "import numpy as np\n",
    "import time\n",
    "from joblib import dump, load\n",
    "from academia_tag_recommender.definitions import MODELS_PATH"
   ]
  },
  {
   "cell_type": "markdown",
   "metadata": {},
   "source": [
    "<a id='data_import'/>"
   ]
  },
  {
   "cell_type": "markdown",
   "metadata": {},
   "source": [
    "## Data import"
   ]
  },
  {
   "cell_type": "code",
   "execution_count": 42,
   "metadata": {},
   "outputs": [
    {
     "name": "stdout",
     "output_type": "stream",
     "text": [
      "Received saved model\n"
     ]
    }
   ],
   "source": [
    "from sklearn.feature_extraction.text import CountVectorizer, TfidfVectorizer\n",
    "from academia_tag_recommender.preprocessor import BasicPreprocessor\n",
    "from academia_tag_recommender.tokenizer import BasicTokenizer, EnglishStemmer, PorterStemmer, LancasterStemmer, Lemmatizer\n",
    "from academia_tag_recommender.test_train_data import get_X_y, get_test_train_data\n",
    "\n",
    "X, y = get_X_y(TfidfVectorizer, BasicTokenizer, BasicPreprocessor, None, (1, 1))\n",
    "X_train, X_test, y_train, y_test = get_test_train_data(X, y, multi=False)"
   ]
  },
  {
   "cell_type": "markdown",
   "metadata": {},
   "source": [
    "<a id='classification_binary'/>"
   ]
  },
  {
   "cell_type": "markdown",
   "metadata": {},
   "source": [
    "## Classification methods for the binary case\n",
    "\n",
    "Probabilistic algorithms (high dimensionality, data sparsity)\n",
    "- Naive Bayes (NB), [Explanation](https://scikit-learn.org/stable/modules/naive_bayes.html)\n",
    "- [Logistic Regression](https://scikit-learn.org/stable/modules/generated/sklearn.linear_model.LogisticRegression.html#sklearn.linear_model.LogisticRegression), [Explanation](https://scikit-learn.org/stable/modules/linear_model.html#logistic-regression)\n",
    "- Linear Classifier (LLSF: Linear Least Squares Fit), [Explanation](https://scikit-learn.org/stable/modules/linear_model.html#ordinary-least-squares)\n",
    "\n",
    "\n",
    "Geometric algorithms\n",
    "- [k-Nearest Neighbor (kNN)](https://scikit-learn.org/stable/modules/generated/sklearn.neighbors.KNeighborsClassifier.html#sklearn.neighbors.KNeighborsClassifier), [Explanation](https://scikit-learn.org/stable/modules/neighbors.html#nearest-neighbors-classification)\n",
    "- [Support Vector Machine (SVM)](https://scikit-learn.org/stable/modules/generated/sklearn.svm.SVC.html#sklearn.svm.SVC), [Explanation](https://scikit-learn.org/stable/modules/svm.html)\n",
    "\n",
    "\n",
    "- [Neural Network (NN)](https://scikit-learn.org/stable/modules/generated/sklearn.neural_network.MLPClassifier.html#sklearn.neural_network.MLPClassifier), [Explanation](https://scikit-learn.org/stable/modules/neural_networks_supervised.html)\n"
   ]
  },
  {
   "cell_type": "code",
   "execution_count": 3,
   "metadata": {},
   "outputs": [],
   "source": [
    "from academia_tag_recommender.classifier_computation import test_classifier, load_results, dump_results"
   ]
  },
  {
   "cell_type": "code",
   "execution_count": 4,
   "metadata": {},
   "outputs": [],
   "source": [
    "X_train_one_feat = X_train[:,1].toarray()\n",
    "X_test_one_feat = X_test[:,1].toarray()\n",
    "\n",
    "def plot_decision(clf):\n",
    "    clf_fit = clf.fit(X_train_one_feat, y_train)\n",
    "    y_pred = clf_fit.predict(X_test_one_feat)\n",
    "    \n",
    "    plt.scatter(X_test_one_feat, y_test,  color='black')\n",
    "    plt.plot(X_test_one_feat, y_pred, color='blue', linewidth=3)\n",
    "    plt.xticks(())\n",
    "    plt.yticks(())\n",
    "    plt.show()"
   ]
  },
  {
   "cell_type": "markdown",
   "metadata": {},
   "source": [
    "**Naive Bayes**\n",
    "\n",
    ">Naive Bayes methods are a set of supervised learning algorithms based on applying Bayes’ theorem with the “naive” assumption of conditional independence between every pair of features given the value of the class variable.\n",
    ">[scikit-learn](https://scikit-learn.org/stable/modules/naive_bayes.html)\n",
    "\n",
    "The different Naive Bayes classifier differ in terms of the likelihood of a feature.\n",
    "\n",
    "- [Gaussian Naive Bayes](https://scikit-learn.org/stable/modules/generated/sklearn.naive_bayes.GaussianNB.html#sklearn.naive_bayes.GaussianNB)\n",
    "    >The likelihood of the features is assumed to be Gaussian\n",
    "    >[scikit-learn](https://scikit-learn.org/stable/modules/naive_bayes.html#gaussian-naive-bayes)\n",
    "    \n",
    "- [Multinomial Naive Bayes](https://scikit-learn.org/stable/modules/generated/sklearn.naive_bayes.MultinomialNB.html#sklearn.naive_bayes.MultinomialNB)\n",
    "    >implements the naive Bayes algorithm for multinomially distributed data\n",
    "    >[scikit-learn](https://scikit-learn.org/stable/modules/naive_bayes.html#multinomial-naive-bayes)\n",
    "\n",
    "- [Complement Naive Bayes](https://scikit-learn.org/stable/modules/generated/sklearn.naive_bayes.ComplementNB.html#sklearn.naive_bayes.ComplementNB)\n",
    "    >CNB is an adaptation of the standard multinomial naive Bayes (MNB) algorithm that is particularly suited for imbalanced data sets. Specifically, CNB uses statistics from the complement of each class to compute the model’s weights. [...] Further, CNB regularly outperforms MNB (often by a considerable margin) on text classification tasks.\n",
    "    >[scikit-learn](https://scikit-learn.org/stable/modules/naive_bayes.html#complement-naive-bayes)\n",
    "\n",
    "- [Categorical Naive Bayes](https://scikit-learn.org/stable/modules/generated/sklearn.naive_bayes.CategoricalNB.html#sklearn.naive_bayes.CategoricalNB)\n",
    "    >implements the categorical naive Bayes algorithm for categorically distributed data. It assumes that each feature, which is described by the index , has its own categorical distribution.\n",
    "    >[scikit-learn](https://scikit-learn.org/stable/modules/naive_bayes.html#categorical-naive-bayes)\n",
    "\n",
    "\n",
    "\n",
    "Multinomial Naive Bayes, Complement Naive Bayes and Categorical Naive Bayes use `alpha` as a parameter for smoothing.\n",
    "> Additive (Laplace/Lidstone) smoothing parameter (0 for no smoothing)."
   ]
  },
  {
   "cell_type": "code",
   "execution_count": 5,
   "metadata": {},
   "outputs": [],
   "source": [
    "from sklearn.naive_bayes import GaussianNB, MultinomialNB, ComplementNB, CategoricalNB"
   ]
  },
  {
   "cell_type": "markdown",
   "metadata": {},
   "source": [
    "*Gaussian Naive Bayes*"
   ]
  },
  {
   "cell_type": "code",
   "execution_count": 6,
   "metadata": {},
   "outputs": [
    {
     "name": "stdout",
     "output_type": "stream",
     "text": [
      "               Pred true      Pred false     \n",
      "Orig true      11             87             \n",
      "Orig false     488            7685           \n"
     ]
    }
   ],
   "source": [
    "test_classifier('Gaussian Naive Bayes', \n",
    "                GaussianNB(),\n",
    "                X_train.toarray(), y_train,\n",
    "                X_test.toarray(), y_test)"
   ]
  },
  {
   "cell_type": "markdown",
   "metadata": {},
   "source": [
    "*Multinomial Naive Bayes*"
   ]
  },
  {
   "cell_type": "code",
   "execution_count": 7,
   "metadata": {},
   "outputs": [
    {
     "name": "stdout",
     "output_type": "stream",
     "text": [
      "               Pred true      Pred false     \n",
      "Orig true      2              96             \n",
      "Orig false     85             8088           \n"
     ]
    }
   ],
   "source": [
    "test_classifier('Multinomial Naive Bayes', \n",
    "                MultinomialNB(), \n",
    "                X_train.toarray(), y_train, \n",
    "                X_test.toarray(), y_test)"
   ]
  },
  {
   "cell_type": "markdown",
   "metadata": {},
   "source": [
    "*Complement Naive Bayes*"
   ]
  },
  {
   "cell_type": "code",
   "execution_count": 8,
   "metadata": {},
   "outputs": [
    {
     "name": "stdout",
     "output_type": "stream",
     "text": [
      "               Pred true      Pred false     \n",
      "Orig true      8              90             \n",
      "Orig false     204            7969           \n"
     ]
    }
   ],
   "source": [
    "test_classifier('Complement Naive Bayes', \n",
    "                ComplementNB(), \n",
    "                X_train.toarray(), y_train, \n",
    "                X_test.toarray(), y_test)"
   ]
  },
  {
   "cell_type": "markdown",
   "metadata": {},
   "source": [
    "*Categorical Naive Bayes*"
   ]
  },
  {
   "cell_type": "code",
   "execution_count": null,
   "metadata": {},
   "outputs": [],
   "source": [
    "test_classifier('Categorical Naive Bayes', \n",
    "                CategoricalNB(), \n",
    "                X_train.toarray(), y_train,\n",
    "                X_test.toarray(), y_test)"
   ]
  },
  {
   "cell_type": "markdown",
   "metadata": {},
   "source": [
    "**Logistic Regression**\n",
    "\n",
    "> Logistic regression, despite its name, is a linear model for classification rather than regression. Logistic regression is also known in the literature as logit regression, maximum-entropy classification (MaxEnt) or the log-linear classifier. In this model, the probabilities describing the possible outcomes of a single trial are modeled using a logistic function.\n",
    "> [scikit-learn](https://scikit-learn.org/stable/modules/linear_model.html#logistic-regression)"
   ]
  },
  {
   "cell_type": "code",
   "execution_count": 10,
   "metadata": {},
   "outputs": [],
   "source": [
    "from sklearn.linear_model import LogisticRegression"
   ]
  },
  {
   "cell_type": "code",
   "execution_count": 11,
   "metadata": {},
   "outputs": [
    {
     "name": "stdout",
     "output_type": "stream",
     "text": [
      "               Pred true      Pred false     \n",
      "Orig true      2              96             \n",
      "Orig false     0              8173           \n"
     ]
    }
   ],
   "source": [
    "test_classifier('Logistic Regression', \n",
    "                LogisticRegression(random_state=0), \n",
    "                X_train, y_train, \n",
    "                X_test, y_test)"
   ]
  },
  {
   "cell_type": "code",
   "execution_count": 12,
   "metadata": {},
   "outputs": [
    {
     "data": {
      "image/png": "[encoded data removed]",
      "text/plain": [
       "<Figure size 432x288 with 1 Axes>"
      ]
     },
     "metadata": {},
     "output_type": "display_data"
    }
   ],
   "source": [
    "plot_decision(LogisticRegression(random_state=0))"
   ]
  },
  {
   "cell_type": "markdown",
   "metadata": {},
   "source": [
    "**Linear Regression**\n",
    "\n",
    "> LinearRegression fits a linear model with coefficients\n",
    "to minimize the residual sum of squares between the observed targets in the dataset, and the targets predicted by the linear approximation. \n",
    "> [scikit-learn](https://scikit-learn.org/stable/modules/linear_model.html#ordinary-least-squares)\n",
    "\n",
    "- [Ordinary Least Squares](https://scikit-learn.org/stable/modules/generated/sklearn.linear_model.LinearRegression.html#sklearn.linear_model.LinearRegression)\n",
    "- [Ridge Regression](https://scikit-learn.org/stable/modules/generated/sklearn.linear_model.RidgeClassifier.html#sklearn.linear_model.RidgeClassifier)\n",
    "     imposes a penalty on the size of the coefficients\n",
    "- [Lasso](https://scikit-learn.org/stable/modules/generated/sklearn.linear_model.MultiTaskLasso.html#sklearn.linear_model.MultiTaskLasso)\n",
    "    estimates sparse coefficients\n",
    "- [Elastic Net](https://scikit-learn.org/stable/modules/generated/sklearn.linear_model.ElasticNet.html#sklearn.linear_model.ElasticNet)\n",
    "    >linear regression model trained with both l1 and l2 -norm regularization of the coefficients. This combination allows for learning a sparse model where few of the weights are non-zero like Lasso, while still maintaining the regularization properties of Ridge. We control the convex combination of\n",
    "and using the l1_ratio parameter.\n",
    "    > [scikit-learn](https://scikit-learn.org/stable/modules/linear_model.html#elastic-net)"
   ]
  },
  {
   "cell_type": "code",
   "execution_count": 13,
   "metadata": {},
   "outputs": [],
   "source": [
    "from sklearn.linear_model import LinearRegression, RidgeClassifier, MultiTaskLasso, Lasso, MultiTaskElasticNet, ElasticNet"
   ]
  },
  {
   "cell_type": "markdown",
   "metadata": {},
   "source": [
    "*Ordinary Least Squares*"
   ]
  },
  {
   "cell_type": "code",
   "execution_count": 15,
   "metadata": {},
   "outputs": [
    {
     "name": "stdout",
     "output_type": "stream",
     "text": [
      "               Pred true      Pred false     \n",
      "Orig true      15             83             \n",
      "Orig false     1001           7172           \n"
     ]
    }
   ],
   "source": [
    "test_classifier('Ordinary Least Squares', \n",
    "                LinearRegression(),\n",
    "                X_train, y_train, \n",
    "                X_test, y_test,\n",
    "                use_score=False)"
   ]
  },
  {
   "cell_type": "code",
   "execution_count": 16,
   "metadata": {},
   "outputs": [
    {
     "data": {
      "image/png": "[encoded data removed]",
      "text/plain": [
       "<Figure size 432x288 with 1 Axes>"
      ]
     },
     "metadata": {},
     "output_type": "display_data"
    }
   ],
   "source": [
    "plot_decision(LinearRegression())"
   ]
  },
  {
   "cell_type": "markdown",
   "metadata": {},
   "source": [
    "*Ridge Regression*"
   ]
  },
  {
   "cell_type": "code",
   "execution_count": 17,
   "metadata": {},
   "outputs": [
    {
     "name": "stdout",
     "output_type": "stream",
     "text": [
      "               Pred true      Pred false     \n",
      "Orig true      3              95             \n",
      "Orig false     26             8147           \n"
     ]
    }
   ],
   "source": [
    "test_classifier('Ridge Classifier',\n",
    "                RidgeClassifier(),\n",
    "                X_train, y_train, \n",
    "                X_test, y_test)"
   ]
  },
  {
   "cell_type": "code",
   "execution_count": 18,
   "metadata": {},
   "outputs": [
    {
     "data": {
      "image/png": "[encoded data removed]",
      "text/plain": [
       "<Figure size 432x288 with 1 Axes>"
      ]
     },
     "metadata": {},
     "output_type": "display_data"
    }
   ],
   "source": [
    "plot_decision(RidgeClassifier())"
   ]
  },
  {
   "cell_type": "markdown",
   "metadata": {},
   "source": [
    "*Lasso*"
   ]
  },
  {
   "cell_type": "code",
   "execution_count": 19,
   "metadata": {},
   "outputs": [
    {
     "name": "stdout",
     "output_type": "stream",
     "text": [
      "               Pred true      Pred false     \n",
      "Orig true      0              98             \n",
      "Orig false     0              8173           \n"
     ]
    }
   ],
   "source": [
    "test_classifier('Lasso',\n",
    "                Lasso(),\n",
    "                X_train, y_train, \n",
    "                X_test, y_test,\n",
    "                use_score=False)"
   ]
  },
  {
   "cell_type": "code",
   "execution_count": 20,
   "metadata": {},
   "outputs": [
    {
     "data": {
      "image/png": "[encoded data removed]",
      "text/plain": [
       "<Figure size 432x288 with 1 Axes>"
      ]
     },
     "metadata": {},
     "output_type": "display_data"
    }
   ],
   "source": [
    "plot_decision(Lasso())"
   ]
  },
  {
   "cell_type": "markdown",
   "metadata": {},
   "source": [
    "*Elastic Net*"
   ]
  },
  {
   "cell_type": "code",
   "execution_count": 21,
   "metadata": {},
   "outputs": [
    {
     "name": "stdout",
     "output_type": "stream",
     "text": [
      "               Pred true      Pred false     \n",
      "Orig true      0              98             \n",
      "Orig false     0              8173           \n"
     ]
    }
   ],
   "source": [
    "test_classifier('Elastic Net',\n",
    "                ElasticNet(),\n",
    "                X_train, y_train, \n",
    "                X_test, y_test,\n",
    "                use_score=False)"
   ]
  },
  {
   "cell_type": "code",
   "execution_count": 23,
   "metadata": {},
   "outputs": [
    {
     "data": {
      "image/png": "[encoded data removed]",
      "text/plain": [
       "<Figure size 432x288 with 1 Axes>"
      ]
     },
     "metadata": {},
     "output_type": "display_data"
    }
   ],
   "source": [
    "plot_decision(ElasticNet())"
   ]
  },
  {
   "cell_type": "markdown",
   "metadata": {},
   "source": [
    "**Decision Trees**"
   ]
  },
  {
   "cell_type": "code",
   "execution_count": 33,
   "metadata": {},
   "outputs": [],
   "source": [
    "from sklearn.tree import DecisionTreeClassifier"
   ]
  },
  {
   "cell_type": "code",
   "execution_count": 34,
   "metadata": {},
   "outputs": [
    {
     "name": "stdout",
     "output_type": "stream",
     "text": [
      "               Pred true      Pred false     \n",
      "Orig true      4              94             \n",
      "Orig false     82             8091           \n"
     ]
    }
   ],
   "source": [
    "test_classifier('DecisionTree',\n",
    "                DecisionTreeClassifier(),\n",
    "                X_train, y_train, \n",
    "                X_test, y_test)"
   ]
  },
  {
   "cell_type": "markdown",
   "metadata": {},
   "source": [
    "**k-Nearest Neighbors**\n",
    "\n",
    "> Neighbors-based classification is a type of instance-based learning or non-generalizing learning: it does not attempt to construct a general internal model, but simply stores instances of the training data. Classification is computed from a simple majority vote of the nearest neighbors of each point: a query point is assigned the data class which has the most representatives within the nearest neighbors of the point.\n",
    "> [scikit-learn](https://scikit-learn.org/stable/modules/neighbors.html#nearest-neighbors-classification)"
   ]
  },
  {
   "cell_type": "code",
   "execution_count": 24,
   "metadata": {},
   "outputs": [],
   "source": [
    "from sklearn.neighbors import KNeighborsClassifier"
   ]
  },
  {
   "cell_type": "code",
   "execution_count": 25,
   "metadata": {},
   "outputs": [
    {
     "name": "stdout",
     "output_type": "stream",
     "text": [
      "               Pred true      Pred false     \n",
      "Orig true      0              98             \n",
      "Orig false     0              8173           \n"
     ]
    }
   ],
   "source": [
    "test_classifier('k-Nearest Neighbors',\n",
    "                KNeighborsClassifier(),\n",
    "                X_train.toarray(), y_train, \n",
    "                X_test.toarray(), y_test)"
   ]
  },
  {
   "cell_type": "markdown",
   "metadata": {},
   "source": [
    "**Support Vector Machines**\n",
    "\n",
    "> A support vector machine constructs a hyper-plane or set of hyper-planes in a high or infinite dimensional space, which can be used for classification, regression or other tasks. Intuitively, a good separation is achieved by the hyper-plane that has the largest distance to the nearest training data points of any class (so-called functional margin), since in general the larger the margin the lower the generalization error of the classifier.\n",
    "> [scikit-learn](https://scikit-learn.org/stable/modules/svm.html#mathematical-formulation)\n",
    "\n",
    "- [SVC](https://scikit-learn.org/stable/modules/generated/sklearn.svm.SVC.html#sklearn.svm.SVC)\n",
    "- [NuSVC](https://scikit-learn.org/stable/modules/generated/sklearn.svm.NuSVC.html#sklearn.svm.NuSVC)\n",
    "- [Linear SVC](https://scikit-learn.org/stable/modules/generated/sklearn.svm.LinearSVC.html#sklearn.svm.LinearSVC)\n"
   ]
  },
  {
   "cell_type": "code",
   "execution_count": 26,
   "metadata": {},
   "outputs": [],
   "source": [
    "from sklearn.svm import SVC, NuSVC, LinearSVC"
   ]
  },
  {
   "cell_type": "markdown",
   "metadata": {},
   "source": [
    "*SVC*"
   ]
  },
  {
   "cell_type": "code",
   "execution_count": 27,
   "metadata": {},
   "outputs": [
    {
     "name": "stdout",
     "output_type": "stream",
     "text": [
      "               Pred true      Pred false     \n",
      "Orig true      0              98             \n",
      "Orig false     0              8173           \n"
     ]
    }
   ],
   "source": [
    "test_classifier('SVC',\n",
    "                SVC(),\n",
    "                X_train, y_train, \n",
    "                X_test, y_test)"
   ]
  },
  {
   "cell_type": "markdown",
   "metadata": {},
   "source": [
    "*NuSVC*"
   ]
  },
  {
   "cell_type": "code",
   "execution_count": 28,
   "metadata": {},
   "outputs": [
    {
     "name": "stdout",
     "output_type": "stream",
     "text": [
      "               Pred true      Pred false     \n",
      "Orig true      1              97             \n",
      "Orig false     0              8173           \n"
     ]
    }
   ],
   "source": [
    "test_classifier('NuSVC',\n",
    "                NuSVC(),\n",
    "                X_train, y_train, \n",
    "                X_test, y_test)"
   ]
  },
  {
   "cell_type": "markdown",
   "metadata": {},
   "source": [
    "*Linear SVC*"
   ]
  },
  {
   "cell_type": "code",
   "execution_count": 29,
   "metadata": {},
   "outputs": [
    {
     "name": "stdout",
     "output_type": "stream",
     "text": [
      "               Pred true      Pred false     \n",
      "Orig true      5              93             \n",
      "Orig false     19             8154           \n"
     ]
    }
   ],
   "source": [
    "test_classifier('Linear SVC',\n",
    "                LinearSVC(),\n",
    "                X_train, y_train, \n",
    "                X_test, y_test)"
   ]
  },
  {
   "cell_type": "markdown",
   "metadata": {},
   "source": [
    "**Neural Networks**\n",
    "\n",
    "> Multi-layer Perceptron (MLP) is a supervised learning algorithm that learns a function\n",
    "by training on a dataset, where is the number of dimensions for input and is the number of dimensions for output. Given a set of features\n",
    "and a target , it can learn a non-linear function approximator for either classification or regression. It is different from logistic regression, in that between the input and the output layer, there can be one or more non-linear layers, called hidden layers.\n",
    "> [scikit-learn](https://scikit-learn.org/stable/modules/neural_networks_supervised.html#multi-layer-perceptron)\n"
   ]
  },
  {
   "cell_type": "code",
   "execution_count": 30,
   "metadata": {},
   "outputs": [],
   "source": [
    "from sklearn.neural_network import MLPClassifier"
   ]
  },
  {
   "cell_type": "code",
   "execution_count": 31,
   "metadata": {},
   "outputs": [
    {
     "name": "stdout",
     "output_type": "stream",
     "text": [
      "               Pred true      Pred false     \n",
      "Orig true      4              94             \n",
      "Orig false     20             8153           \n"
     ]
    }
   ],
   "source": [
    "test_classifier('Neural Network',\n",
    "                MLPClassifier(),\n",
    "                X_train, y_train,\n",
    "                X_test, y_test)"
   ]
  },
  {
   "cell_type": "markdown",
   "metadata": {},
   "source": [
    "**Results**"
   ]
  },
  {
   "cell_type": "code",
   "execution_count": 35,
   "metadata": {},
   "outputs": [
    {
     "name": "stdout",
     "output_type": "stream",
     "text": [
      "Classifier                    Train Score              Test Score               Time                     \n",
      "Gaussian Naive Bayes          0.9456289548990368       0.9304799903276508       94.37618041038513        \n",
      "Multinomial Naive Bayes       0.9860948772721777       0.978116309998791        4.103748559951782        \n",
      "Complement Naive Bayes        0.9815404457700213       0.9644541167936163       4.130535125732422        \n",
      "Categorical Naive Bayes       0.9983072365636902       0.9991536182818451       43.95118808746338        \n",
      "Logistic Regression           0.9908911369956874       0.9883931809938339       1.0477983951568604       \n",
      "Ordinary Least Squares        0.9989708991608368       -2.009146247158252       473.6501157283783        \n",
      "Non Negative Least Squares    0.0007553841720261186    0.0018232107135137264    8281.4295399189          \n",
      "Ridge Classifier              0.996574100197493        0.9853705718776448       0.8766429424285889       \n",
      "Lasso                         0.9878974970571158       0.9882915990260179       1.4040617942810059       \n",
      "Elastic Net                   0.9878974970571158       0.9882915990260179       1.3115220069885254       \n",
      "k-Nearest Neighbors           0.9877473701180928       0.9881513722645388       43336.533470869064       \n",
      "SVC                           0.9886340735963887       0.9881513722645388       757.2506847381592        \n",
      "Linear SVC                    1.0                      0.9864587111594728       0.20556998252868652      \n",
      "Neural Network                1.0                      0.9862169024301777       389.6793885231018        \n",
      "NuSVC                         1.0                      0.9882722766291863       464.7664988040924        \n",
      "DecisionTree                  1.0                      0.9787208318220287       51.043641328811646       \n"
     ]
    }
   ],
   "source": [
    "results = load_results()\n",
    "print('{:<30}{:<25}{:<25}{:<25}'.format(\"Classifier\", \"Train Score\", \"Test Score\", \"Time\"))\n",
    "for result in results:\n",
    "    [name, score_orig, score_pred, process_time] = result\n",
    "    print('{:<30}{:<25}{:<25}{:<25}'.format(name, score_orig, score_pred, process_time))"
   ]
  },
  {
   "cell_type": "code",
   "execution_count": 36,
   "metadata": {},
   "outputs": [
    {
     "data": {
      "image/png": "[encoded data removed]",
      "text/plain": [
       "<Figure size 864x576 with 1 Axes>"
      ]
     },
     "metadata": {
      "needs_background": "light"
     },
     "output_type": "display_data"
    }
   ],
   "source": [
    "results_ = [[x[i] for x in load_results() if x[0] != 'Non Negative Least Squares'] for i in range(4)]\n",
    "indices = np.arange(len(results_[0]))\n",
    "\n",
    "clf_names, score_orig, score_pred, proc_time = results_\n",
    "proc_time = np.array(proc_time) / np.max(proc_time)\n",
    "score_pred = [score if score > 0 else 0 for score in score_pred]\n",
    "\n",
    "plt.figure(figsize=(12, 8))\n",
    "plt.title(\"Score\")\n",
    "plt.barh(indices, score_orig, .15, label=\"score train\", color='navy')\n",
    "plt.barh(indices + .2, score_pred, .15, label=\"score test\", color='darkorange')\n",
    "plt.barh(indices + .4, proc_time, .15, label=\"training time\",\n",
    "         color='c')\n",
    "plt.yticks(())\n",
    "plt.legend(loc='best')\n",
    "plt.subplots_adjust(left=.25)\n",
    "plt.subplots_adjust(top=.95)\n",
    "plt.subplots_adjust(bottom=.05)\n",
    "\n",
    "for i, c in zip(indices, clf_names):\n",
    "    plt.text(-.3, i, c)\n",
    "\n",
    "plt.show()"
   ]
  },
  {
   "cell_type": "markdown",
   "metadata": {},
   "source": [
    "<a id='classification_multi'/>"
   ]
  },
  {
   "cell_type": "markdown",
   "metadata": {},
   "source": [
    "## Classification methods for the multi-label case\n",
    "\n",
    "Classification methods can be adapted to the multi-label case, by splitting the multi-label problem with *n* labels into *n* binary problems.\n",
    "Scikit-learn offers the class [`MultiOutputClassifier`](https://scikit-learn.org/stable/modules/generated/sklearn.multioutput.MultiOutputClassifier.html?highlight=multioutput#sklearn.multioutput.MultiOutputClassifier) for expanding binary classifiers.\n",
    "\n",
    "\n",
    "Other approaches to multi-label classification are discussed in other notebooks:\n",
    "- [Algorithm Adaption](./me-algorithm-adaption.ipynb)\n",
    "- [Problem Transformation](./me-problem-transformation.ipynb)\n",
    "- [Ensemble](./me-ensemble.ipynb)"
   ]
  },
  {
   "cell_type": "code",
   "execution_count": 22,
   "metadata": {},
   "outputs": [],
   "source": [
    "from sklearn.multioutput import MultiOutputClassifier\n",
    "\n",
    "X_train_multi, X_test_multi, y_train_multi, y_test_multi = get_test_train_data(X, y, multi=True)"
   ]
  },
  {
   "cell_type": "code",
   "execution_count": 25,
   "metadata": {},
   "outputs": [
    {
     "name": "stdout",
     "output_type": "stream",
     "text": [
      "[[[8261    0]\n",
      "  [   3    0]]\n",
      "\n",
      " [[8253    0]\n",
      "  [  11    0]]\n",
      "\n",
      " [[8238    4]\n",
      "  [  16    6]]\n",
      "\n",
      " ...\n",
      "\n",
      " [[8239    4]\n",
      "  [  10   11]]\n",
      "\n",
      " [[7908  113]\n",
      "  [ 192   51]]\n",
      "\n",
      " [[8126   24]\n",
      "  [ 100   14]]]\n"
     ]
    }
   ],
   "source": [
    "test_classifier('Multioutput - Linear SVC', \n",
    "                MultiOutputClassifier(LinearSVC()),\n",
    "                X_train_multi, y_train_multi,\n",
    "                X_test_multi, y_test_multi,\n",
    "                multi=True)"
   ]
  },
  {
   "cell_type": "code",
   "execution_count": 37,
   "metadata": {},
   "outputs": [
    {
     "name": "stdout",
     "output_type": "stream",
     "text": [
      "Classifier                              Train Score              Test Score               Time                     \n",
      "Multioutput - Multinomial Naive Bayes   0.035257573923917866     0.014036786060019362     1261.7157561779022       \n",
      "Multioutput - Lasso                     0.9966151566607464       0.995690431741345        119350.97936415672       \n",
      "Multioutput - Elastic Net               0.9940876900072511       0.994085906724229        218.83601474761963       \n",
      "Multioutput - Linear SVC                0.9745451611601921       0.05542110358180058      1752.2562556266785       \n",
      "Multioutput - Logistic Regression       0.28504578643753276      0.06667473378509196      6249.087834358215        \n",
      "Multioutput - Gaussian Naive Bayes      0.4326919198031385       0.003993223620522749     11845.353125572205       \n",
      "Multioutput - Complement Naive Bayes    0.044051797168098754     0.018151016456921586     1257.9403433799744       \n"
     ]
    }
   ],
   "source": [
    "results = load_results(multi=True)\n",
    "print('{:<40}{:<25}{:<25}{:<25}'.format(\"Classifier\", \"Train Score\", \"Test Score\", \"Time\"))\n",
    "for result in results:\n",
    "    [name, score_orig, score_pred, process_time] = result\n",
    "    print('{:<40}{:<25}{:<25}{:<25}'.format(name, score_orig, score_pred, process_time))"
   ]
  },
  {
   "cell_type": "code",
   "execution_count": 38,
   "metadata": {},
   "outputs": [
    {
     "data": {
      "image/png": "[encoded data removed]",
      "text/plain": [
       "<Figure size 864x576 with 1 Axes>"
      ]
     },
     "metadata": {
      "needs_background": "light"
     },
     "output_type": "display_data"
    }
   ],
   "source": [
    "results_ = [[x[i] for x in load_results(multi=True)] for i in range(4)]\n",
    "indices = np.arange(len(results_[0]))\n",
    "\n",
    "clf_names, score_orig, score_pred, proc_time = results_\n",
    "proc_time = np.array(proc_time) / np.max(proc_time)\n",
    "score_pred = [score if score > 0 else 0 for score in score_pred]\n",
    "\n",
    "plt.figure(figsize=(12, 8))\n",
    "plt.title(\"Score\")\n",
    "plt.barh(indices, score_orig, .2, label=\"score train\", color='navy')\n",
    "plt.barh(indices + .3, score_pred, .2, label=\"score test\", color='darkorange')\n",
    "plt.barh(indices + .6, proc_time, .2, label=\"training time\",\n",
    "         color='c')\n",
    "plt.yticks(())\n",
    "plt.legend(loc='best')\n",
    "plt.subplots_adjust(left=.25)\n",
    "plt.subplots_adjust(top=.95)\n",
    "plt.subplots_adjust(bottom=.05)\n",
    "\n",
    "for i, c in zip(indices, clf_names):\n",
    "    plt.text(-.3, i, c)\n",
    "\n",
    "plt.show()"
   ]
  },
  {
   "cell_type": "code",
   "execution_count": null,
   "metadata": {},
   "outputs": [],
   "source": []
  }
 ],
 "metadata": {
  "kernelspec": {
   "display_name": "Python 3",
   "language": "python",
   "name": "python3"
  },
  "language_info": {
   "codemirror_mode": {
    "name": "ipython",
    "version": 3
   },
   "file_extension": ".py",
   "mimetype": "text/x-python",
   "name": "python",
   "nbconvert_exporter": "python",
   "pygments_lexer": "ipython3",
   "version": "3.8.3"
  }
 },
 "nbformat": 4,
 "nbformat_minor": 4
}
